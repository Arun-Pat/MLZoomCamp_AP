{
  "nbformat": 4,
  "nbformat_minor": 0,
  "metadata": {
    "colab": {
      "provenance": [],
      "authorship_tag": "ABX9TyNVQ5uyiJUBixTCP6bs7gxp",
      "include_colab_link": true
    },
    "kernelspec": {
      "name": "python3",
      "display_name": "Python 3"
    },
    "language_info": {
      "name": "python"
    }
  },
  "cells": [
    {
      "cell_type": "markdown",
      "metadata": {
        "id": "view-in-github",
        "colab_type": "text"
      },
      "source": [
        "<a href=\"https://colab.research.google.com/github/Arun-Pat/MLZoomCamp_AP/blob/main/MLZoomCamp_HW3.ipynb\" target=\"_parent\"><img src=\"https://colab.research.google.com/assets/colab-badge.svg\" alt=\"Open In Colab\"/></a>"
      ]
    },
    {
      "cell_type": "markdown",
      "source": [
        "# **Dataset**\n",
        "In this homework, we will use the Car price dataset. Download it from here.\n",
        "\n",
        "Or you can do it with wget:\n",
        "\n",
        "wget https://raw.githubusercontent.com/alexeygrigorev/mlbookcamp-code/master/chapter-02-car-price/data.csv\n",
        "\n"
      ],
      "metadata": {
        "id": "KuTdgBjFf1xM"
      }
    },
    {
      "cell_type": "code",
      "source": [
        "import pandas as pd\n",
        "import numpy as np\n",
        "\n",
        "import matplotlib.pyplot as plt"
      ],
      "metadata": {
        "id": "47v6lQ6ThXK1"
      },
      "execution_count": null,
      "outputs": []
    },
    {
      "cell_type": "code",
      "source": [
        "url = 'https://raw.githubusercontent.com/alexeygrigorev/mlbookcamp-code/master/chapter-02-car-price/data.csv'"
      ],
      "metadata": {
        "id": "iu4UF8CRf5-k"
      },
      "execution_count": null,
      "outputs": []
    },
    {
      "cell_type": "code",
      "source": [
        "!wget $url -O car_data.csv"
      ],
      "metadata": {
        "colab": {
          "base_uri": "https://localhost:8080/"
        },
        "id": "9a7reVW_f54g",
        "outputId": "a831eabd-16e2-412a-fc19-0aeff79edc51"
      },
      "execution_count": null,
      "outputs": [
        {
          "output_type": "stream",
          "name": "stdout",
          "text": [
            "--2023-09-30 10:22:21--  https://raw.githubusercontent.com/alexeygrigorev/mlbookcamp-code/master/chapter-02-car-price/data.csv\n",
            "Resolving raw.githubusercontent.com (raw.githubusercontent.com)... 185.199.108.133, 185.199.109.133, 185.199.110.133, ...\n",
            "Connecting to raw.githubusercontent.com (raw.githubusercontent.com)|185.199.108.133|:443... connected.\n",
            "HTTP request sent, awaiting response... 200 OK\n",
            "Length: 1475504 (1.4M) [text/plain]\n",
            "Saving to: ‘car_data.csv’\n",
            "\n",
            "car_data.csv        100%[===================>]   1.41M  --.-KB/s    in 0.07s   \n",
            "\n",
            "2023-09-30 10:22:22 (18.9 MB/s) - ‘car_data.csv’ saved [1475504/1475504]\n",
            "\n"
          ]
        }
      ]
    },
    {
      "cell_type": "code",
      "source": [
        "df = pd.read_csv('car_data.csv')\n",
        "df.head()"
      ],
      "metadata": {
        "colab": {
          "base_uri": "https://localhost:8080/",
          "height": 310
        },
        "id": "eIHGlsfAf5nr",
        "outputId": "ee18c182-c266-434a-d6bd-395ec10c8799"
      },
      "execution_count": null,
      "outputs": [
        {
          "output_type": "execute_result",
          "data": {
            "text/plain": [
              "  Make       Model  Year             Engine Fuel Type  Engine HP  \\\n",
              "0  BMW  1 Series M  2011  premium unleaded (required)      335.0   \n",
              "1  BMW    1 Series  2011  premium unleaded (required)      300.0   \n",
              "2  BMW    1 Series  2011  premium unleaded (required)      300.0   \n",
              "3  BMW    1 Series  2011  premium unleaded (required)      230.0   \n",
              "4  BMW    1 Series  2011  premium unleaded (required)      230.0   \n",
              "\n",
              "   Engine Cylinders Transmission Type     Driven_Wheels  Number of Doors  \\\n",
              "0               6.0            MANUAL  rear wheel drive              2.0   \n",
              "1               6.0            MANUAL  rear wheel drive              2.0   \n",
              "2               6.0            MANUAL  rear wheel drive              2.0   \n",
              "3               6.0            MANUAL  rear wheel drive              2.0   \n",
              "4               6.0            MANUAL  rear wheel drive              2.0   \n",
              "\n",
              "                         Market Category Vehicle Size Vehicle Style  \\\n",
              "0  Factory Tuner,Luxury,High-Performance      Compact         Coupe   \n",
              "1                     Luxury,Performance      Compact   Convertible   \n",
              "2                Luxury,High-Performance      Compact         Coupe   \n",
              "3                     Luxury,Performance      Compact         Coupe   \n",
              "4                                 Luxury      Compact   Convertible   \n",
              "\n",
              "   highway MPG  city mpg  Popularity   MSRP  \n",
              "0           26        19        3916  46135  \n",
              "1           28        19        3916  40650  \n",
              "2           28        20        3916  36350  \n",
              "3           28        18        3916  29450  \n",
              "4           28        18        3916  34500  "
            ],
            "text/html": [
              "\n",
              "  <div id=\"df-9549d1b0-baaf-4331-a411-203f944c8857\" class=\"colab-df-container\">\n",
              "    <div>\n",
              "<style scoped>\n",
              "    .dataframe tbody tr th:only-of-type {\n",
              "        vertical-align: middle;\n",
              "    }\n",
              "\n",
              "    .dataframe tbody tr th {\n",
              "        vertical-align: top;\n",
              "    }\n",
              "\n",
              "    .dataframe thead th {\n",
              "        text-align: right;\n",
              "    }\n",
              "</style>\n",
              "<table border=\"1\" class=\"dataframe\">\n",
              "  <thead>\n",
              "    <tr style=\"text-align: right;\">\n",
              "      <th></th>\n",
              "      <th>Make</th>\n",
              "      <th>Model</th>\n",
              "      <th>Year</th>\n",
              "      <th>Engine Fuel Type</th>\n",
              "      <th>Engine HP</th>\n",
              "      <th>Engine Cylinders</th>\n",
              "      <th>Transmission Type</th>\n",
              "      <th>Driven_Wheels</th>\n",
              "      <th>Number of Doors</th>\n",
              "      <th>Market Category</th>\n",
              "      <th>Vehicle Size</th>\n",
              "      <th>Vehicle Style</th>\n",
              "      <th>highway MPG</th>\n",
              "      <th>city mpg</th>\n",
              "      <th>Popularity</th>\n",
              "      <th>MSRP</th>\n",
              "    </tr>\n",
              "  </thead>\n",
              "  <tbody>\n",
              "    <tr>\n",
              "      <th>0</th>\n",
              "      <td>BMW</td>\n",
              "      <td>1 Series M</td>\n",
              "      <td>2011</td>\n",
              "      <td>premium unleaded (required)</td>\n",
              "      <td>335.0</td>\n",
              "      <td>6.0</td>\n",
              "      <td>MANUAL</td>\n",
              "      <td>rear wheel drive</td>\n",
              "      <td>2.0</td>\n",
              "      <td>Factory Tuner,Luxury,High-Performance</td>\n",
              "      <td>Compact</td>\n",
              "      <td>Coupe</td>\n",
              "      <td>26</td>\n",
              "      <td>19</td>\n",
              "      <td>3916</td>\n",
              "      <td>46135</td>\n",
              "    </tr>\n",
              "    <tr>\n",
              "      <th>1</th>\n",
              "      <td>BMW</td>\n",
              "      <td>1 Series</td>\n",
              "      <td>2011</td>\n",
              "      <td>premium unleaded (required)</td>\n",
              "      <td>300.0</td>\n",
              "      <td>6.0</td>\n",
              "      <td>MANUAL</td>\n",
              "      <td>rear wheel drive</td>\n",
              "      <td>2.0</td>\n",
              "      <td>Luxury,Performance</td>\n",
              "      <td>Compact</td>\n",
              "      <td>Convertible</td>\n",
              "      <td>28</td>\n",
              "      <td>19</td>\n",
              "      <td>3916</td>\n",
              "      <td>40650</td>\n",
              "    </tr>\n",
              "    <tr>\n",
              "      <th>2</th>\n",
              "      <td>BMW</td>\n",
              "      <td>1 Series</td>\n",
              "      <td>2011</td>\n",
              "      <td>premium unleaded (required)</td>\n",
              "      <td>300.0</td>\n",
              "      <td>6.0</td>\n",
              "      <td>MANUAL</td>\n",
              "      <td>rear wheel drive</td>\n",
              "      <td>2.0</td>\n",
              "      <td>Luxury,High-Performance</td>\n",
              "      <td>Compact</td>\n",
              "      <td>Coupe</td>\n",
              "      <td>28</td>\n",
              "      <td>20</td>\n",
              "      <td>3916</td>\n",
              "      <td>36350</td>\n",
              "    </tr>\n",
              "    <tr>\n",
              "      <th>3</th>\n",
              "      <td>BMW</td>\n",
              "      <td>1 Series</td>\n",
              "      <td>2011</td>\n",
              "      <td>premium unleaded (required)</td>\n",
              "      <td>230.0</td>\n",
              "      <td>6.0</td>\n",
              "      <td>MANUAL</td>\n",
              "      <td>rear wheel drive</td>\n",
              "      <td>2.0</td>\n",
              "      <td>Luxury,Performance</td>\n",
              "      <td>Compact</td>\n",
              "      <td>Coupe</td>\n",
              "      <td>28</td>\n",
              "      <td>18</td>\n",
              "      <td>3916</td>\n",
              "      <td>29450</td>\n",
              "    </tr>\n",
              "    <tr>\n",
              "      <th>4</th>\n",
              "      <td>BMW</td>\n",
              "      <td>1 Series</td>\n",
              "      <td>2011</td>\n",
              "      <td>premium unleaded (required)</td>\n",
              "      <td>230.0</td>\n",
              "      <td>6.0</td>\n",
              "      <td>MANUAL</td>\n",
              "      <td>rear wheel drive</td>\n",
              "      <td>2.0</td>\n",
              "      <td>Luxury</td>\n",
              "      <td>Compact</td>\n",
              "      <td>Convertible</td>\n",
              "      <td>28</td>\n",
              "      <td>18</td>\n",
              "      <td>3916</td>\n",
              "      <td>34500</td>\n",
              "    </tr>\n",
              "  </tbody>\n",
              "</table>\n",
              "</div>\n",
              "    <div class=\"colab-df-buttons\">\n",
              "\n",
              "  <div class=\"colab-df-container\">\n",
              "    <button class=\"colab-df-convert\" onclick=\"convertToInteractive('df-9549d1b0-baaf-4331-a411-203f944c8857')\"\n",
              "            title=\"Convert this dataframe to an interactive table.\"\n",
              "            style=\"display:none;\">\n",
              "\n",
              "  <svg xmlns=\"http://www.w3.org/2000/svg\" height=\"24px\" viewBox=\"0 -960 960 960\">\n",
              "    <path d=\"M120-120v-720h720v720H120Zm60-500h600v-160H180v160Zm220 220h160v-160H400v160Zm0 220h160v-160H400v160ZM180-400h160v-160H180v160Zm440 0h160v-160H620v160ZM180-180h160v-160H180v160Zm440 0h160v-160H620v160Z\"/>\n",
              "  </svg>\n",
              "    </button>\n",
              "\n",
              "  <style>\n",
              "    .colab-df-container {\n",
              "      display:flex;\n",
              "      gap: 12px;\n",
              "    }\n",
              "\n",
              "    .colab-df-convert {\n",
              "      background-color: #E8F0FE;\n",
              "      border: none;\n",
              "      border-radius: 50%;\n",
              "      cursor: pointer;\n",
              "      display: none;\n",
              "      fill: #1967D2;\n",
              "      height: 32px;\n",
              "      padding: 0 0 0 0;\n",
              "      width: 32px;\n",
              "    }\n",
              "\n",
              "    .colab-df-convert:hover {\n",
              "      background-color: #E2EBFA;\n",
              "      box-shadow: 0px 1px 2px rgba(60, 64, 67, 0.3), 0px 1px 3px 1px rgba(60, 64, 67, 0.15);\n",
              "      fill: #174EA6;\n",
              "    }\n",
              "\n",
              "    .colab-df-buttons div {\n",
              "      margin-bottom: 4px;\n",
              "    }\n",
              "\n",
              "    [theme=dark] .colab-df-convert {\n",
              "      background-color: #3B4455;\n",
              "      fill: #D2E3FC;\n",
              "    }\n",
              "\n",
              "    [theme=dark] .colab-df-convert:hover {\n",
              "      background-color: #434B5C;\n",
              "      box-shadow: 0px 1px 3px 1px rgba(0, 0, 0, 0.15);\n",
              "      filter: drop-shadow(0px 1px 2px rgba(0, 0, 0, 0.3));\n",
              "      fill: #FFFFFF;\n",
              "    }\n",
              "  </style>\n",
              "\n",
              "    <script>\n",
              "      const buttonEl =\n",
              "        document.querySelector('#df-9549d1b0-baaf-4331-a411-203f944c8857 button.colab-df-convert');\n",
              "      buttonEl.style.display =\n",
              "        google.colab.kernel.accessAllowed ? 'block' : 'none';\n",
              "\n",
              "      async function convertToInteractive(key) {\n",
              "        const element = document.querySelector('#df-9549d1b0-baaf-4331-a411-203f944c8857');\n",
              "        const dataTable =\n",
              "          await google.colab.kernel.invokeFunction('convertToInteractive',\n",
              "                                                    [key], {});\n",
              "        if (!dataTable) return;\n",
              "\n",
              "        const docLinkHtml = 'Like what you see? Visit the ' +\n",
              "          '<a target=\"_blank\" href=https://colab.research.google.com/notebooks/data_table.ipynb>data table notebook</a>'\n",
              "          + ' to learn more about interactive tables.';\n",
              "        element.innerHTML = '';\n",
              "        dataTable['output_type'] = 'display_data';\n",
              "        await google.colab.output.renderOutput(dataTable, element);\n",
              "        const docLink = document.createElement('div');\n",
              "        docLink.innerHTML = docLinkHtml;\n",
              "        element.appendChild(docLink);\n",
              "      }\n",
              "    </script>\n",
              "  </div>\n",
              "\n",
              "\n",
              "<div id=\"df-09acf3b8-64b0-4082-81ed-903a53c034ea\">\n",
              "  <button class=\"colab-df-quickchart\" onclick=\"quickchart('df-09acf3b8-64b0-4082-81ed-903a53c034ea')\"\n",
              "            title=\"Suggest charts.\"\n",
              "            style=\"display:none;\">\n",
              "\n",
              "<svg xmlns=\"http://www.w3.org/2000/svg\" height=\"24px\"viewBox=\"0 0 24 24\"\n",
              "     width=\"24px\">\n",
              "    <g>\n",
              "        <path d=\"M19 3H5c-1.1 0-2 .9-2 2v14c0 1.1.9 2 2 2h14c1.1 0 2-.9 2-2V5c0-1.1-.9-2-2-2zM9 17H7v-7h2v7zm4 0h-2V7h2v10zm4 0h-2v-4h2v4z\"/>\n",
              "    </g>\n",
              "</svg>\n",
              "  </button>\n",
              "\n",
              "<style>\n",
              "  .colab-df-quickchart {\n",
              "      --bg-color: #E8F0FE;\n",
              "      --fill-color: #1967D2;\n",
              "      --hover-bg-color: #E2EBFA;\n",
              "      --hover-fill-color: #174EA6;\n",
              "      --disabled-fill-color: #AAA;\n",
              "      --disabled-bg-color: #DDD;\n",
              "  }\n",
              "\n",
              "  [theme=dark] .colab-df-quickchart {\n",
              "      --bg-color: #3B4455;\n",
              "      --fill-color: #D2E3FC;\n",
              "      --hover-bg-color: #434B5C;\n",
              "      --hover-fill-color: #FFFFFF;\n",
              "      --disabled-bg-color: #3B4455;\n",
              "      --disabled-fill-color: #666;\n",
              "  }\n",
              "\n",
              "  .colab-df-quickchart {\n",
              "    background-color: var(--bg-color);\n",
              "    border: none;\n",
              "    border-radius: 50%;\n",
              "    cursor: pointer;\n",
              "    display: none;\n",
              "    fill: var(--fill-color);\n",
              "    height: 32px;\n",
              "    padding: 0;\n",
              "    width: 32px;\n",
              "  }\n",
              "\n",
              "  .colab-df-quickchart:hover {\n",
              "    background-color: var(--hover-bg-color);\n",
              "    box-shadow: 0 1px 2px rgba(60, 64, 67, 0.3), 0 1px 3px 1px rgba(60, 64, 67, 0.15);\n",
              "    fill: var(--button-hover-fill-color);\n",
              "  }\n",
              "\n",
              "  .colab-df-quickchart-complete:disabled,\n",
              "  .colab-df-quickchart-complete:disabled:hover {\n",
              "    background-color: var(--disabled-bg-color);\n",
              "    fill: var(--disabled-fill-color);\n",
              "    box-shadow: none;\n",
              "  }\n",
              "\n",
              "  .colab-df-spinner {\n",
              "    border: 2px solid var(--fill-color);\n",
              "    border-color: transparent;\n",
              "    border-bottom-color: var(--fill-color);\n",
              "    animation:\n",
              "      spin 1s steps(1) infinite;\n",
              "  }\n",
              "\n",
              "  @keyframes spin {\n",
              "    0% {\n",
              "      border-color: transparent;\n",
              "      border-bottom-color: var(--fill-color);\n",
              "      border-left-color: var(--fill-color);\n",
              "    }\n",
              "    20% {\n",
              "      border-color: transparent;\n",
              "      border-left-color: var(--fill-color);\n",
              "      border-top-color: var(--fill-color);\n",
              "    }\n",
              "    30% {\n",
              "      border-color: transparent;\n",
              "      border-left-color: var(--fill-color);\n",
              "      border-top-color: var(--fill-color);\n",
              "      border-right-color: var(--fill-color);\n",
              "    }\n",
              "    40% {\n",
              "      border-color: transparent;\n",
              "      border-right-color: var(--fill-color);\n",
              "      border-top-color: var(--fill-color);\n",
              "    }\n",
              "    60% {\n",
              "      border-color: transparent;\n",
              "      border-right-color: var(--fill-color);\n",
              "    }\n",
              "    80% {\n",
              "      border-color: transparent;\n",
              "      border-right-color: var(--fill-color);\n",
              "      border-bottom-color: var(--fill-color);\n",
              "    }\n",
              "    90% {\n",
              "      border-color: transparent;\n",
              "      border-bottom-color: var(--fill-color);\n",
              "    }\n",
              "  }\n",
              "</style>\n",
              "\n",
              "  <script>\n",
              "    async function quickchart(key) {\n",
              "      const quickchartButtonEl =\n",
              "        document.querySelector('#' + key + ' button');\n",
              "      quickchartButtonEl.disabled = true;  // To prevent multiple clicks.\n",
              "      quickchartButtonEl.classList.add('colab-df-spinner');\n",
              "      try {\n",
              "        const charts = await google.colab.kernel.invokeFunction(\n",
              "            'suggestCharts', [key], {});\n",
              "      } catch (error) {\n",
              "        console.error('Error during call to suggestCharts:', error);\n",
              "      }\n",
              "      quickchartButtonEl.classList.remove('colab-df-spinner');\n",
              "      quickchartButtonEl.classList.add('colab-df-quickchart-complete');\n",
              "    }\n",
              "    (() => {\n",
              "      let quickchartButtonEl =\n",
              "        document.querySelector('#df-09acf3b8-64b0-4082-81ed-903a53c034ea button');\n",
              "      quickchartButtonEl.style.display =\n",
              "        google.colab.kernel.accessAllowed ? 'block' : 'none';\n",
              "    })();\n",
              "  </script>\n",
              "</div>\n",
              "    </div>\n",
              "  </div>\n"
            ]
          },
          "metadata": {},
          "execution_count": 102
        }
      ]
    },
    {
      "cell_type": "markdown",
      "source": [
        "*We'll keep working with the MSRP variable, and we'll transform it to a classification task.*\n",
        "\n",
        "# **Features**\n",
        "For the rest of the homework, you'll need to use only these columns:\n",
        "\n",
        "Make,\n",
        "Model,\n",
        "Year,\n",
        "Engine HP,\n",
        "Engine Cylinders,\n",
        "Transmission Type,\n",
        "Vehicle Style,\n",
        "highway MPG,\n",
        "city mpg"
      ],
      "metadata": {
        "id": "YwVaEBfMjH0W"
      }
    },
    {
      "cell_type": "code",
      "source": [
        "df.orig = df.copy()\n",
        "df.orig\n",
        "\n",
        "column_list = ['Make', 'Model', 'Year', 'Engine HP', 'Engine Cylinders', 'Transmission Type', 'Vehicle Style', 'highway MPG', 'city mpg','MSRP']\n",
        "df = df[column_list]\n",
        "df"
      ],
      "metadata": {
        "colab": {
          "base_uri": "https://localhost:8080/",
          "height": 460
        },
        "id": "tuchwRmLjRHN",
        "outputId": "dc3f5218-49dc-4c51-936c-fc9b6111f0a2"
      },
      "execution_count": null,
      "outputs": [
        {
          "output_type": "stream",
          "name": "stderr",
          "text": [
            "<ipython-input-103-90a1a14c5f6a>:1: UserWarning: Pandas doesn't allow columns to be created via a new attribute name - see https://pandas.pydata.org/pandas-docs/stable/indexing.html#attribute-access\n",
            "  df.orig = df.copy()\n"
          ]
        },
        {
          "output_type": "execute_result",
          "data": {
            "text/plain": [
              "          Make       Model  Year  Engine HP  Engine Cylinders  \\\n",
              "0          BMW  1 Series M  2011      335.0               6.0   \n",
              "1          BMW    1 Series  2011      300.0               6.0   \n",
              "2          BMW    1 Series  2011      300.0               6.0   \n",
              "3          BMW    1 Series  2011      230.0               6.0   \n",
              "4          BMW    1 Series  2011      230.0               6.0   \n",
              "...        ...         ...   ...        ...               ...   \n",
              "11909    Acura         ZDX  2012      300.0               6.0   \n",
              "11910    Acura         ZDX  2012      300.0               6.0   \n",
              "11911    Acura         ZDX  2012      300.0               6.0   \n",
              "11912    Acura         ZDX  2013      300.0               6.0   \n",
              "11913  Lincoln      Zephyr  2006      221.0               6.0   \n",
              "\n",
              "      Transmission Type  Vehicle Style  highway MPG  city mpg   MSRP  \n",
              "0                MANUAL          Coupe           26        19  46135  \n",
              "1                MANUAL    Convertible           28        19  40650  \n",
              "2                MANUAL          Coupe           28        20  36350  \n",
              "3                MANUAL          Coupe           28        18  29450  \n",
              "4                MANUAL    Convertible           28        18  34500  \n",
              "...                 ...            ...          ...       ...    ...  \n",
              "11909         AUTOMATIC  4dr Hatchback           23        16  46120  \n",
              "11910         AUTOMATIC  4dr Hatchback           23        16  56670  \n",
              "11911         AUTOMATIC  4dr Hatchback           23        16  50620  \n",
              "11912         AUTOMATIC  4dr Hatchback           23        16  50920  \n",
              "11913         AUTOMATIC          Sedan           26        17  28995  \n",
              "\n",
              "[11914 rows x 10 columns]"
            ],
            "text/html": [
              "\n",
              "  <div id=\"df-10304393-b424-459f-a5ff-97dfd873109e\" class=\"colab-df-container\">\n",
              "    <div>\n",
              "<style scoped>\n",
              "    .dataframe tbody tr th:only-of-type {\n",
              "        vertical-align: middle;\n",
              "    }\n",
              "\n",
              "    .dataframe tbody tr th {\n",
              "        vertical-align: top;\n",
              "    }\n",
              "\n",
              "    .dataframe thead th {\n",
              "        text-align: right;\n",
              "    }\n",
              "</style>\n",
              "<table border=\"1\" class=\"dataframe\">\n",
              "  <thead>\n",
              "    <tr style=\"text-align: right;\">\n",
              "      <th></th>\n",
              "      <th>Make</th>\n",
              "      <th>Model</th>\n",
              "      <th>Year</th>\n",
              "      <th>Engine HP</th>\n",
              "      <th>Engine Cylinders</th>\n",
              "      <th>Transmission Type</th>\n",
              "      <th>Vehicle Style</th>\n",
              "      <th>highway MPG</th>\n",
              "      <th>city mpg</th>\n",
              "      <th>MSRP</th>\n",
              "    </tr>\n",
              "  </thead>\n",
              "  <tbody>\n",
              "    <tr>\n",
              "      <th>0</th>\n",
              "      <td>BMW</td>\n",
              "      <td>1 Series M</td>\n",
              "      <td>2011</td>\n",
              "      <td>335.0</td>\n",
              "      <td>6.0</td>\n",
              "      <td>MANUAL</td>\n",
              "      <td>Coupe</td>\n",
              "      <td>26</td>\n",
              "      <td>19</td>\n",
              "      <td>46135</td>\n",
              "    </tr>\n",
              "    <tr>\n",
              "      <th>1</th>\n",
              "      <td>BMW</td>\n",
              "      <td>1 Series</td>\n",
              "      <td>2011</td>\n",
              "      <td>300.0</td>\n",
              "      <td>6.0</td>\n",
              "      <td>MANUAL</td>\n",
              "      <td>Convertible</td>\n",
              "      <td>28</td>\n",
              "      <td>19</td>\n",
              "      <td>40650</td>\n",
              "    </tr>\n",
              "    <tr>\n",
              "      <th>2</th>\n",
              "      <td>BMW</td>\n",
              "      <td>1 Series</td>\n",
              "      <td>2011</td>\n",
              "      <td>300.0</td>\n",
              "      <td>6.0</td>\n",
              "      <td>MANUAL</td>\n",
              "      <td>Coupe</td>\n",
              "      <td>28</td>\n",
              "      <td>20</td>\n",
              "      <td>36350</td>\n",
              "    </tr>\n",
              "    <tr>\n",
              "      <th>3</th>\n",
              "      <td>BMW</td>\n",
              "      <td>1 Series</td>\n",
              "      <td>2011</td>\n",
              "      <td>230.0</td>\n",
              "      <td>6.0</td>\n",
              "      <td>MANUAL</td>\n",
              "      <td>Coupe</td>\n",
              "      <td>28</td>\n",
              "      <td>18</td>\n",
              "      <td>29450</td>\n",
              "    </tr>\n",
              "    <tr>\n",
              "      <th>4</th>\n",
              "      <td>BMW</td>\n",
              "      <td>1 Series</td>\n",
              "      <td>2011</td>\n",
              "      <td>230.0</td>\n",
              "      <td>6.0</td>\n",
              "      <td>MANUAL</td>\n",
              "      <td>Convertible</td>\n",
              "      <td>28</td>\n",
              "      <td>18</td>\n",
              "      <td>34500</td>\n",
              "    </tr>\n",
              "    <tr>\n",
              "      <th>...</th>\n",
              "      <td>...</td>\n",
              "      <td>...</td>\n",
              "      <td>...</td>\n",
              "      <td>...</td>\n",
              "      <td>...</td>\n",
              "      <td>...</td>\n",
              "      <td>...</td>\n",
              "      <td>...</td>\n",
              "      <td>...</td>\n",
              "      <td>...</td>\n",
              "    </tr>\n",
              "    <tr>\n",
              "      <th>11909</th>\n",
              "      <td>Acura</td>\n",
              "      <td>ZDX</td>\n",
              "      <td>2012</td>\n",
              "      <td>300.0</td>\n",
              "      <td>6.0</td>\n",
              "      <td>AUTOMATIC</td>\n",
              "      <td>4dr Hatchback</td>\n",
              "      <td>23</td>\n",
              "      <td>16</td>\n",
              "      <td>46120</td>\n",
              "    </tr>\n",
              "    <tr>\n",
              "      <th>11910</th>\n",
              "      <td>Acura</td>\n",
              "      <td>ZDX</td>\n",
              "      <td>2012</td>\n",
              "      <td>300.0</td>\n",
              "      <td>6.0</td>\n",
              "      <td>AUTOMATIC</td>\n",
              "      <td>4dr Hatchback</td>\n",
              "      <td>23</td>\n",
              "      <td>16</td>\n",
              "      <td>56670</td>\n",
              "    </tr>\n",
              "    <tr>\n",
              "      <th>11911</th>\n",
              "      <td>Acura</td>\n",
              "      <td>ZDX</td>\n",
              "      <td>2012</td>\n",
              "      <td>300.0</td>\n",
              "      <td>6.0</td>\n",
              "      <td>AUTOMATIC</td>\n",
              "      <td>4dr Hatchback</td>\n",
              "      <td>23</td>\n",
              "      <td>16</td>\n",
              "      <td>50620</td>\n",
              "    </tr>\n",
              "    <tr>\n",
              "      <th>11912</th>\n",
              "      <td>Acura</td>\n",
              "      <td>ZDX</td>\n",
              "      <td>2013</td>\n",
              "      <td>300.0</td>\n",
              "      <td>6.0</td>\n",
              "      <td>AUTOMATIC</td>\n",
              "      <td>4dr Hatchback</td>\n",
              "      <td>23</td>\n",
              "      <td>16</td>\n",
              "      <td>50920</td>\n",
              "    </tr>\n",
              "    <tr>\n",
              "      <th>11913</th>\n",
              "      <td>Lincoln</td>\n",
              "      <td>Zephyr</td>\n",
              "      <td>2006</td>\n",
              "      <td>221.0</td>\n",
              "      <td>6.0</td>\n",
              "      <td>AUTOMATIC</td>\n",
              "      <td>Sedan</td>\n",
              "      <td>26</td>\n",
              "      <td>17</td>\n",
              "      <td>28995</td>\n",
              "    </tr>\n",
              "  </tbody>\n",
              "</table>\n",
              "<p>11914 rows × 10 columns</p>\n",
              "</div>\n",
              "    <div class=\"colab-df-buttons\">\n",
              "\n",
              "  <div class=\"colab-df-container\">\n",
              "    <button class=\"colab-df-convert\" onclick=\"convertToInteractive('df-10304393-b424-459f-a5ff-97dfd873109e')\"\n",
              "            title=\"Convert this dataframe to an interactive table.\"\n",
              "            style=\"display:none;\">\n",
              "\n",
              "  <svg xmlns=\"http://www.w3.org/2000/svg\" height=\"24px\" viewBox=\"0 -960 960 960\">\n",
              "    <path d=\"M120-120v-720h720v720H120Zm60-500h600v-160H180v160Zm220 220h160v-160H400v160Zm0 220h160v-160H400v160ZM180-400h160v-160H180v160Zm440 0h160v-160H620v160ZM180-180h160v-160H180v160Zm440 0h160v-160H620v160Z\"/>\n",
              "  </svg>\n",
              "    </button>\n",
              "\n",
              "  <style>\n",
              "    .colab-df-container {\n",
              "      display:flex;\n",
              "      gap: 12px;\n",
              "    }\n",
              "\n",
              "    .colab-df-convert {\n",
              "      background-color: #E8F0FE;\n",
              "      border: none;\n",
              "      border-radius: 50%;\n",
              "      cursor: pointer;\n",
              "      display: none;\n",
              "      fill: #1967D2;\n",
              "      height: 32px;\n",
              "      padding: 0 0 0 0;\n",
              "      width: 32px;\n",
              "    }\n",
              "\n",
              "    .colab-df-convert:hover {\n",
              "      background-color: #E2EBFA;\n",
              "      box-shadow: 0px 1px 2px rgba(60, 64, 67, 0.3), 0px 1px 3px 1px rgba(60, 64, 67, 0.15);\n",
              "      fill: #174EA6;\n",
              "    }\n",
              "\n",
              "    .colab-df-buttons div {\n",
              "      margin-bottom: 4px;\n",
              "    }\n",
              "\n",
              "    [theme=dark] .colab-df-convert {\n",
              "      background-color: #3B4455;\n",
              "      fill: #D2E3FC;\n",
              "    }\n",
              "\n",
              "    [theme=dark] .colab-df-convert:hover {\n",
              "      background-color: #434B5C;\n",
              "      box-shadow: 0px 1px 3px 1px rgba(0, 0, 0, 0.15);\n",
              "      filter: drop-shadow(0px 1px 2px rgba(0, 0, 0, 0.3));\n",
              "      fill: #FFFFFF;\n",
              "    }\n",
              "  </style>\n",
              "\n",
              "    <script>\n",
              "      const buttonEl =\n",
              "        document.querySelector('#df-10304393-b424-459f-a5ff-97dfd873109e button.colab-df-convert');\n",
              "      buttonEl.style.display =\n",
              "        google.colab.kernel.accessAllowed ? 'block' : 'none';\n",
              "\n",
              "      async function convertToInteractive(key) {\n",
              "        const element = document.querySelector('#df-10304393-b424-459f-a5ff-97dfd873109e');\n",
              "        const dataTable =\n",
              "          await google.colab.kernel.invokeFunction('convertToInteractive',\n",
              "                                                    [key], {});\n",
              "        if (!dataTable) return;\n",
              "\n",
              "        const docLinkHtml = 'Like what you see? Visit the ' +\n",
              "          '<a target=\"_blank\" href=https://colab.research.google.com/notebooks/data_table.ipynb>data table notebook</a>'\n",
              "          + ' to learn more about interactive tables.';\n",
              "        element.innerHTML = '';\n",
              "        dataTable['output_type'] = 'display_data';\n",
              "        await google.colab.output.renderOutput(dataTable, element);\n",
              "        const docLink = document.createElement('div');\n",
              "        docLink.innerHTML = docLinkHtml;\n",
              "        element.appendChild(docLink);\n",
              "      }\n",
              "    </script>\n",
              "  </div>\n",
              "\n",
              "\n",
              "<div id=\"df-b5df7ed2-4ab6-443a-b8c7-4e1bf4f85cce\">\n",
              "  <button class=\"colab-df-quickchart\" onclick=\"quickchart('df-b5df7ed2-4ab6-443a-b8c7-4e1bf4f85cce')\"\n",
              "            title=\"Suggest charts.\"\n",
              "            style=\"display:none;\">\n",
              "\n",
              "<svg xmlns=\"http://www.w3.org/2000/svg\" height=\"24px\"viewBox=\"0 0 24 24\"\n",
              "     width=\"24px\">\n",
              "    <g>\n",
              "        <path d=\"M19 3H5c-1.1 0-2 .9-2 2v14c0 1.1.9 2 2 2h14c1.1 0 2-.9 2-2V5c0-1.1-.9-2-2-2zM9 17H7v-7h2v7zm4 0h-2V7h2v10zm4 0h-2v-4h2v4z\"/>\n",
              "    </g>\n",
              "</svg>\n",
              "  </button>\n",
              "\n",
              "<style>\n",
              "  .colab-df-quickchart {\n",
              "      --bg-color: #E8F0FE;\n",
              "      --fill-color: #1967D2;\n",
              "      --hover-bg-color: #E2EBFA;\n",
              "      --hover-fill-color: #174EA6;\n",
              "      --disabled-fill-color: #AAA;\n",
              "      --disabled-bg-color: #DDD;\n",
              "  }\n",
              "\n",
              "  [theme=dark] .colab-df-quickchart {\n",
              "      --bg-color: #3B4455;\n",
              "      --fill-color: #D2E3FC;\n",
              "      --hover-bg-color: #434B5C;\n",
              "      --hover-fill-color: #FFFFFF;\n",
              "      --disabled-bg-color: #3B4455;\n",
              "      --disabled-fill-color: #666;\n",
              "  }\n",
              "\n",
              "  .colab-df-quickchart {\n",
              "    background-color: var(--bg-color);\n",
              "    border: none;\n",
              "    border-radius: 50%;\n",
              "    cursor: pointer;\n",
              "    display: none;\n",
              "    fill: var(--fill-color);\n",
              "    height: 32px;\n",
              "    padding: 0;\n",
              "    width: 32px;\n",
              "  }\n",
              "\n",
              "  .colab-df-quickchart:hover {\n",
              "    background-color: var(--hover-bg-color);\n",
              "    box-shadow: 0 1px 2px rgba(60, 64, 67, 0.3), 0 1px 3px 1px rgba(60, 64, 67, 0.15);\n",
              "    fill: var(--button-hover-fill-color);\n",
              "  }\n",
              "\n",
              "  .colab-df-quickchart-complete:disabled,\n",
              "  .colab-df-quickchart-complete:disabled:hover {\n",
              "    background-color: var(--disabled-bg-color);\n",
              "    fill: var(--disabled-fill-color);\n",
              "    box-shadow: none;\n",
              "  }\n",
              "\n",
              "  .colab-df-spinner {\n",
              "    border: 2px solid var(--fill-color);\n",
              "    border-color: transparent;\n",
              "    border-bottom-color: var(--fill-color);\n",
              "    animation:\n",
              "      spin 1s steps(1) infinite;\n",
              "  }\n",
              "\n",
              "  @keyframes spin {\n",
              "    0% {\n",
              "      border-color: transparent;\n",
              "      border-bottom-color: var(--fill-color);\n",
              "      border-left-color: var(--fill-color);\n",
              "    }\n",
              "    20% {\n",
              "      border-color: transparent;\n",
              "      border-left-color: var(--fill-color);\n",
              "      border-top-color: var(--fill-color);\n",
              "    }\n",
              "    30% {\n",
              "      border-color: transparent;\n",
              "      border-left-color: var(--fill-color);\n",
              "      border-top-color: var(--fill-color);\n",
              "      border-right-color: var(--fill-color);\n",
              "    }\n",
              "    40% {\n",
              "      border-color: transparent;\n",
              "      border-right-color: var(--fill-color);\n",
              "      border-top-color: var(--fill-color);\n",
              "    }\n",
              "    60% {\n",
              "      border-color: transparent;\n",
              "      border-right-color: var(--fill-color);\n",
              "    }\n",
              "    80% {\n",
              "      border-color: transparent;\n",
              "      border-right-color: var(--fill-color);\n",
              "      border-bottom-color: var(--fill-color);\n",
              "    }\n",
              "    90% {\n",
              "      border-color: transparent;\n",
              "      border-bottom-color: var(--fill-color);\n",
              "    }\n",
              "  }\n",
              "</style>\n",
              "\n",
              "  <script>\n",
              "    async function quickchart(key) {\n",
              "      const quickchartButtonEl =\n",
              "        document.querySelector('#' + key + ' button');\n",
              "      quickchartButtonEl.disabled = true;  // To prevent multiple clicks.\n",
              "      quickchartButtonEl.classList.add('colab-df-spinner');\n",
              "      try {\n",
              "        const charts = await google.colab.kernel.invokeFunction(\n",
              "            'suggestCharts', [key], {});\n",
              "      } catch (error) {\n",
              "        console.error('Error during call to suggestCharts:', error);\n",
              "      }\n",
              "      quickchartButtonEl.classList.remove('colab-df-spinner');\n",
              "      quickchartButtonEl.classList.add('colab-df-quickchart-complete');\n",
              "    }\n",
              "    (() => {\n",
              "      let quickchartButtonEl =\n",
              "        document.querySelector('#df-b5df7ed2-4ab6-443a-b8c7-4e1bf4f85cce button');\n",
              "      quickchartButtonEl.style.display =\n",
              "        google.colab.kernel.accessAllowed ? 'block' : 'none';\n",
              "    })();\n",
              "  </script>\n",
              "</div>\n",
              "    </div>\n",
              "  </div>\n"
            ]
          },
          "metadata": {},
          "execution_count": 103
        }
      ]
    },
    {
      "cell_type": "markdown",
      "source": [
        "# **Data preparation**\n",
        "* Select only the features from above and transform their names using next line:\n",
        "  *  data.columns = data.columns.str.replace(' ', '_').str.lower()\n",
        "* Fill in the missing values of the selected features with 0.\n",
        "* Rename MSRP variable to price."
      ],
      "metadata": {
        "id": "gecnHGVNeWmN"
      }
    },
    {
      "cell_type": "code",
      "source": [
        "df.columns=df.columns.str.replace(' ','_').str.lower()\n",
        "# df.columns=df.columns.str.replace('msrp','price')\n",
        "df.rename(columns = {'msrp':'price'}, inplace = True)"
      ],
      "metadata": {
        "id": "lXn8JqswefYN"
      },
      "execution_count": null,
      "outputs": []
    },
    {
      "cell_type": "code",
      "source": [
        "df.isnull().sum()"
      ],
      "metadata": {
        "colab": {
          "base_uri": "https://localhost:8080/"
        },
        "id": "WEqZ9ZFQpoi8",
        "outputId": "1bc288b2-07ba-40a7-c666-feebfd282793"
      },
      "execution_count": null,
      "outputs": [
        {
          "output_type": "execute_result",
          "data": {
            "text/plain": [
              "make                  0\n",
              "model                 0\n",
              "year                  0\n",
              "engine_hp            69\n",
              "engine_cylinders     30\n",
              "transmission_type     0\n",
              "vehicle_style         0\n",
              "highway_mpg           0\n",
              "city_mpg              0\n",
              "price                 0\n",
              "dtype: int64"
            ]
          },
          "metadata": {},
          "execution_count": 105
        }
      ]
    },
    {
      "cell_type": "code",
      "source": [
        "df = df.fillna(0)"
      ],
      "metadata": {
        "id": "J01_hxCdiLKH"
      },
      "execution_count": null,
      "outputs": []
    },
    {
      "cell_type": "code",
      "source": [
        "df.isnull().sum()"
      ],
      "metadata": {
        "colab": {
          "base_uri": "https://localhost:8080/"
        },
        "id": "wws_0Y6xivPR",
        "outputId": "f2250c9e-fc9d-4d07-83e5-d06782d0af3d"
      },
      "execution_count": null,
      "outputs": [
        {
          "output_type": "execute_result",
          "data": {
            "text/plain": [
              "make                 0\n",
              "model                0\n",
              "year                 0\n",
              "engine_hp            0\n",
              "engine_cylinders     0\n",
              "transmission_type    0\n",
              "vehicle_style        0\n",
              "highway_mpg          0\n",
              "city_mpg             0\n",
              "price                0\n",
              "dtype: int64"
            ]
          },
          "metadata": {},
          "execution_count": 107
        }
      ]
    },
    {
      "cell_type": "markdown",
      "source": [
        "# **Question 1**\n",
        "What is the most frequent observation (mode) for the column transmission_type?\n",
        "\n",
        "* AUTOMATIC ✅\n",
        "* MANUAL\n",
        "* AUTOMATED_MANUAL\n",
        "* DIRECT_DRIVE\n",
        "\n",
        "# **Question 2**\n",
        "Create the correlation matrix for the numerical features of your dataset. In a correlation matrix, you compute the correlation coefficient between every pair of features in the dataset.\n",
        "\n",
        "What are the two features that have the biggest correlation in this dataset?\n",
        "\n",
        "* engine_hp and year  0.338714\n",
        "* engine_hp and engine_cylinders  0.774851\n",
        "* highway_mpg and engine_cylinders  0.614541\n",
        "* highway_mpg and city_mpg  0.886829 ✅"
      ],
      "metadata": {
        "id": "ZdL2qqA4qJB_"
      }
    },
    {
      "cell_type": "code",
      "source": [
        "# column_list = list(df.columns)\n",
        "# df[column_list].value_counts()\n",
        "# df['make'].value_counts()\n",
        "# # df.nunique()#.value_counts()\n",
        "# a = df.groupby(df.nunique())\n"
      ],
      "metadata": {
        "id": "jxugtH8U8Nw5"
      },
      "execution_count": null,
      "outputs": []
    },
    {
      "cell_type": "code",
      "source": [
        "df.mode()"
      ],
      "metadata": {
        "colab": {
          "base_uri": "https://localhost:8080/",
          "height": 81
        },
        "id": "T5p6MXFQqdfk",
        "outputId": "acc4c6f7-810e-4aa3-da60-fec2796e0fe1"
      },
      "execution_count": null,
      "outputs": [
        {
          "output_type": "execute_result",
          "data": {
            "text/plain": [
              "        make           model  year  engine_hp  engine_cylinders  \\\n",
              "0  Chevrolet  Silverado 1500  2015      200.0               4.0   \n",
              "\n",
              "  transmission_type vehicle_style  highway_mpg  city_mpg  price  \n",
              "0         AUTOMATIC         Sedan           24        17   2000  "
            ],
            "text/html": [
              "\n",
              "  <div id=\"df-bc8cb2ac-5bb4-421d-b802-b6bda1823516\" class=\"colab-df-container\">\n",
              "    <div>\n",
              "<style scoped>\n",
              "    .dataframe tbody tr th:only-of-type {\n",
              "        vertical-align: middle;\n",
              "    }\n",
              "\n",
              "    .dataframe tbody tr th {\n",
              "        vertical-align: top;\n",
              "    }\n",
              "\n",
              "    .dataframe thead th {\n",
              "        text-align: right;\n",
              "    }\n",
              "</style>\n",
              "<table border=\"1\" class=\"dataframe\">\n",
              "  <thead>\n",
              "    <tr style=\"text-align: right;\">\n",
              "      <th></th>\n",
              "      <th>make</th>\n",
              "      <th>model</th>\n",
              "      <th>year</th>\n",
              "      <th>engine_hp</th>\n",
              "      <th>engine_cylinders</th>\n",
              "      <th>transmission_type</th>\n",
              "      <th>vehicle_style</th>\n",
              "      <th>highway_mpg</th>\n",
              "      <th>city_mpg</th>\n",
              "      <th>price</th>\n",
              "    </tr>\n",
              "  </thead>\n",
              "  <tbody>\n",
              "    <tr>\n",
              "      <th>0</th>\n",
              "      <td>Chevrolet</td>\n",
              "      <td>Silverado 1500</td>\n",
              "      <td>2015</td>\n",
              "      <td>200.0</td>\n",
              "      <td>4.0</td>\n",
              "      <td>AUTOMATIC</td>\n",
              "      <td>Sedan</td>\n",
              "      <td>24</td>\n",
              "      <td>17</td>\n",
              "      <td>2000</td>\n",
              "    </tr>\n",
              "  </tbody>\n",
              "</table>\n",
              "</div>\n",
              "    <div class=\"colab-df-buttons\">\n",
              "\n",
              "  <div class=\"colab-df-container\">\n",
              "    <button class=\"colab-df-convert\" onclick=\"convertToInteractive('df-bc8cb2ac-5bb4-421d-b802-b6bda1823516')\"\n",
              "            title=\"Convert this dataframe to an interactive table.\"\n",
              "            style=\"display:none;\">\n",
              "\n",
              "  <svg xmlns=\"http://www.w3.org/2000/svg\" height=\"24px\" viewBox=\"0 -960 960 960\">\n",
              "    <path d=\"M120-120v-720h720v720H120Zm60-500h600v-160H180v160Zm220 220h160v-160H400v160Zm0 220h160v-160H400v160ZM180-400h160v-160H180v160Zm440 0h160v-160H620v160ZM180-180h160v-160H180v160Zm440 0h160v-160H620v160Z\"/>\n",
              "  </svg>\n",
              "    </button>\n",
              "\n",
              "  <style>\n",
              "    .colab-df-container {\n",
              "      display:flex;\n",
              "      gap: 12px;\n",
              "    }\n",
              "\n",
              "    .colab-df-convert {\n",
              "      background-color: #E8F0FE;\n",
              "      border: none;\n",
              "      border-radius: 50%;\n",
              "      cursor: pointer;\n",
              "      display: none;\n",
              "      fill: #1967D2;\n",
              "      height: 32px;\n",
              "      padding: 0 0 0 0;\n",
              "      width: 32px;\n",
              "    }\n",
              "\n",
              "    .colab-df-convert:hover {\n",
              "      background-color: #E2EBFA;\n",
              "      box-shadow: 0px 1px 2px rgba(60, 64, 67, 0.3), 0px 1px 3px 1px rgba(60, 64, 67, 0.15);\n",
              "      fill: #174EA6;\n",
              "    }\n",
              "\n",
              "    .colab-df-buttons div {\n",
              "      margin-bottom: 4px;\n",
              "    }\n",
              "\n",
              "    [theme=dark] .colab-df-convert {\n",
              "      background-color: #3B4455;\n",
              "      fill: #D2E3FC;\n",
              "    }\n",
              "\n",
              "    [theme=dark] .colab-df-convert:hover {\n",
              "      background-color: #434B5C;\n",
              "      box-shadow: 0px 1px 3px 1px rgba(0, 0, 0, 0.15);\n",
              "      filter: drop-shadow(0px 1px 2px rgba(0, 0, 0, 0.3));\n",
              "      fill: #FFFFFF;\n",
              "    }\n",
              "  </style>\n",
              "\n",
              "    <script>\n",
              "      const buttonEl =\n",
              "        document.querySelector('#df-bc8cb2ac-5bb4-421d-b802-b6bda1823516 button.colab-df-convert');\n",
              "      buttonEl.style.display =\n",
              "        google.colab.kernel.accessAllowed ? 'block' : 'none';\n",
              "\n",
              "      async function convertToInteractive(key) {\n",
              "        const element = document.querySelector('#df-bc8cb2ac-5bb4-421d-b802-b6bda1823516');\n",
              "        const dataTable =\n",
              "          await google.colab.kernel.invokeFunction('convertToInteractive',\n",
              "                                                    [key], {});\n",
              "        if (!dataTable) return;\n",
              "\n",
              "        const docLinkHtml = 'Like what you see? Visit the ' +\n",
              "          '<a target=\"_blank\" href=https://colab.research.google.com/notebooks/data_table.ipynb>data table notebook</a>'\n",
              "          + ' to learn more about interactive tables.';\n",
              "        element.innerHTML = '';\n",
              "        dataTable['output_type'] = 'display_data';\n",
              "        await google.colab.output.renderOutput(dataTable, element);\n",
              "        const docLink = document.createElement('div');\n",
              "        docLink.innerHTML = docLinkHtml;\n",
              "        element.appendChild(docLink);\n",
              "      }\n",
              "    </script>\n",
              "  </div>\n",
              "\n",
              "    </div>\n",
              "  </div>\n"
            ]
          },
          "metadata": {},
          "execution_count": 109
        }
      ]
    },
    {
      "cell_type": "code",
      "source": [
        "df.dtypes"
      ],
      "metadata": {
        "colab": {
          "base_uri": "https://localhost:8080/"
        },
        "id": "8mKSbC1poTmQ",
        "outputId": "f179743f-617e-42e3-f586-615cfbb270a7"
      },
      "execution_count": null,
      "outputs": [
        {
          "output_type": "execute_result",
          "data": {
            "text/plain": [
              "make                  object\n",
              "model                 object\n",
              "year                   int64\n",
              "engine_hp            float64\n",
              "engine_cylinders     float64\n",
              "transmission_type     object\n",
              "vehicle_style         object\n",
              "highway_mpg            int64\n",
              "city_mpg               int64\n",
              "price                  int64\n",
              "dtype: object"
            ]
          },
          "metadata": {},
          "execution_count": 110
        }
      ]
    },
    {
      "cell_type": "code",
      "source": [
        "categorical = list (df.dtypes[df.dtypes == object].index)\n",
        "categorical\n",
        "\n",
        "numerical = list (df.dtypes[(df.dtypes.index != 'price') & (df.dtypes != object) ].index)\n",
        "# # numrical.remove('price')\n",
        "numerical\n",
        "\n"
      ],
      "metadata": {
        "colab": {
          "base_uri": "https://localhost:8080/"
        },
        "id": "NjX0XVAEqH2Q",
        "outputId": "b3833a09-021e-4125-bd1c-a1fe11af49ad"
      },
      "execution_count": null,
      "outputs": [
        {
          "output_type": "execute_result",
          "data": {
            "text/plain": [
              "['year', 'engine_hp', 'engine_cylinders', 'highway_mpg', 'city_mpg']"
            ]
          },
          "metadata": {},
          "execution_count": 111
        }
      ]
    },
    {
      "cell_type": "code",
      "source": [
        "categorical"
      ],
      "metadata": {
        "colab": {
          "base_uri": "https://localhost:8080/"
        },
        "id": "2nYqkRfjAYBr",
        "outputId": "345586af-27df-40ab-f5fd-0b144f03092e"
      },
      "execution_count": null,
      "outputs": [
        {
          "output_type": "execute_result",
          "data": {
            "text/plain": [
              "['make', 'model', 'transmission_type', 'vehicle_style']"
            ]
          },
          "metadata": {},
          "execution_count": 112
        }
      ]
    },
    {
      "cell_type": "code",
      "source": [
        "for col in numerical:\n",
        "  print(f'<<{col}>>')\n",
        "  print(df[numerical].corrwith(df[col]).abs())\n",
        "  print()"
      ],
      "metadata": {
        "colab": {
          "base_uri": "https://localhost:8080/"
        },
        "id": "ulTAg1FH4RsP",
        "outputId": "2f1604a4-466c-4d36-b518-17c12858c0f4"
      },
      "execution_count": null,
      "outputs": [
        {
          "output_type": "stream",
          "name": "stdout",
          "text": [
            "<<year>>\n",
            "year                1.000000\n",
            "engine_hp           0.338714\n",
            "engine_cylinders    0.040708\n",
            "highway_mpg         0.258240\n",
            "city_mpg            0.198171\n",
            "dtype: float64\n",
            "\n",
            "<<engine_hp>>\n",
            "year                0.338714\n",
            "engine_hp           1.000000\n",
            "engine_cylinders    0.774851\n",
            "highway_mpg         0.415707\n",
            "city_mpg            0.424918\n",
            "dtype: float64\n",
            "\n",
            "<<engine_cylinders>>\n",
            "year                0.040708\n",
            "engine_hp           0.774851\n",
            "engine_cylinders    1.000000\n",
            "highway_mpg         0.614541\n",
            "city_mpg            0.587306\n",
            "dtype: float64\n",
            "\n",
            "<<highway_mpg>>\n",
            "year                0.258240\n",
            "engine_hp           0.415707\n",
            "engine_cylinders    0.614541\n",
            "highway_mpg         1.000000\n",
            "city_mpg            0.886829\n",
            "dtype: float64\n",
            "\n",
            "<<city_mpg>>\n",
            "year                0.198171\n",
            "engine_hp           0.424918\n",
            "engine_cylinders    0.587306\n",
            "highway_mpg         0.886829\n",
            "city_mpg            1.000000\n",
            "dtype: float64\n",
            "\n"
          ]
        }
      ]
    },
    {
      "cell_type": "markdown",
      "source": [
        "# **Make price binary**\n",
        "Now we need to turn the price variable from numeric into a binary format.\n",
        "Let's create a variable above_average which is 1 if the price is above its mean value and 0 otherwise.\n",
        "# **Split the data**\n",
        "Split your data in train/val/test sets with 60%/20%/20% distribution.\n",
        "Use Scikit-Learn for that (the train_test_split function) and set the seed to 42.\n",
        "Make sure that the target value (price) is not in your dataframe."
      ],
      "metadata": {
        "id": "JUanL32y62lm"
      }
    },
    {
      "cell_type": "code",
      "source": [
        "price_mean = df.price.mean()\n",
        "# price_mean\n",
        "\n",
        "above_average = (df.price > price_mean).astype(int)\n",
        "above_average"
      ],
      "metadata": {
        "id": "ZmJRdBVx67SN",
        "colab": {
          "base_uri": "https://localhost:8080/"
        },
        "outputId": "08cff78f-d0ef-475a-9fde-cb985e8983b4"
      },
      "execution_count": null,
      "outputs": [
        {
          "output_type": "execute_result",
          "data": {
            "text/plain": [
              "0        1\n",
              "1        1\n",
              "2        0\n",
              "3        0\n",
              "4        0\n",
              "        ..\n",
              "11909    1\n",
              "11910    1\n",
              "11911    1\n",
              "11912    1\n",
              "11913    0\n",
              "Name: price, Length: 11914, dtype: int64"
            ]
          },
          "metadata": {},
          "execution_count": 114
        }
      ]
    },
    {
      "cell_type": "code",
      "source": [
        "from sklearn.model_selection import train_test_split"
      ],
      "metadata": {
        "id": "ozjrP3_Uy-Mb"
      },
      "execution_count": null,
      "outputs": []
    },
    {
      "cell_type": "code",
      "source": [
        "df_full_train, df_test = train_test_split(df, test_size=0.2, random_state=42)\n",
        "df_train, df_val = train_test_split(df_full_train, test_size=0.25, random_state=42)"
      ],
      "metadata": {
        "id": "Y3xvR9HszGta"
      },
      "execution_count": null,
      "outputs": []
    },
    {
      "cell_type": "code",
      "source": [
        "len(df_train), len(df_val), len(df_test)"
      ],
      "metadata": {
        "colab": {
          "base_uri": "https://localhost:8080/"
        },
        "id": "HRAntwHizGTR",
        "outputId": "d2e12489-e7b7-4723-f73b-62b5e1e0cf3d"
      },
      "execution_count": null,
      "outputs": [
        {
          "output_type": "execute_result",
          "data": {
            "text/plain": [
              "(7148, 2383, 2383)"
            ]
          },
          "metadata": {},
          "execution_count": 117
        }
      ]
    },
    {
      "cell_type": "code",
      "source": [
        "df_train = df_train.reset_index(drop=True)\n",
        "df_val = df_val.reset_index(drop=True)\n",
        "df_test = df_test.reset_index(drop=True)"
      ],
      "metadata": {
        "id": "-8Z1ymfm0BLx"
      },
      "execution_count": null,
      "outputs": []
    },
    {
      "cell_type": "code",
      "source": [
        "y_train = df_train.price.values\n",
        "y_val = df_val.price.values\n",
        "y_test = df_test.price.values\n",
        "\n"
      ],
      "metadata": {
        "id": "IyqRni4v0BEi"
      },
      "execution_count": null,
      "outputs": []
    },
    {
      "cell_type": "code",
      "source": [
        "above_average_train = (df_train.price > price_mean).astype(int)\n",
        "above_average_val = (df_val.price > price_mean).astype(int)\n",
        "above_average_test = (df_test.price > price_mean).astype(int)"
      ],
      "metadata": {
        "id": "qWPusHr29s9C"
      },
      "execution_count": null,
      "outputs": []
    },
    {
      "cell_type": "code",
      "source": [
        "del df_train['price']\n",
        "del df_val['price']\n",
        "del df_test['price']"
      ],
      "metadata": {
        "id": "Ndb0Sh6d9tvu"
      },
      "execution_count": null,
      "outputs": []
    },
    {
      "cell_type": "code",
      "source": [
        "df_train"
      ],
      "metadata": {
        "colab": {
          "base_uri": "https://localhost:8080/",
          "height": 423
        },
        "id": "i5IoG6Er1Du7",
        "outputId": "d26f31a5-4b1f-45ae-f4a5-d79136c6f78b"
      },
      "execution_count": null,
      "outputs": [
        {
          "output_type": "execute_result",
          "data": {
            "text/plain": [
              "             make     model  year  engine_hp  engine_cylinders  \\\n",
              "0      Mitsubishi  Endeavor  2011      225.0               6.0   \n",
              "1             Kia   Borrego  2009      276.0               6.0   \n",
              "2     Lamborghini  Gallardo  2012      570.0              10.0   \n",
              "3       Chevrolet  Colorado  2016      200.0               4.0   \n",
              "4         Pontiac      Vibe  2009      158.0               4.0   \n",
              "...           ...       ...   ...        ...               ...   \n",
              "7143       Toyota    Sienna  2016      266.0               6.0   \n",
              "7144    Chevrolet       HHR  2009      260.0               4.0   \n",
              "7145      Hyundai  Veracruz  2012      260.0               6.0   \n",
              "7146   Mitsubishi      Expo  1993      136.0               4.0   \n",
              "7147         Ford    Taurus  2015      365.0               6.0   \n",
              "\n",
              "     transmission_type      vehicle_style  highway_mpg  city_mpg  \n",
              "0            AUTOMATIC            4dr SUV           19        15  \n",
              "1            AUTOMATIC            4dr SUV           21        17  \n",
              "2               MANUAL        Convertible           20        12  \n",
              "3            AUTOMATIC    Crew Cab Pickup           27        20  \n",
              "4            AUTOMATIC      4dr Hatchback           26        20  \n",
              "...                ...                ...          ...       ...  \n",
              "7143         AUTOMATIC  Passenger Minivan           25        18  \n",
              "7144            MANUAL              Wagon           29        21  \n",
              "7145         AUTOMATIC            4dr SUV           22        17  \n",
              "7146            MANUAL      2dr Hatchback           26        19  \n",
              "7147         AUTOMATIC              Sedan           25        17  \n",
              "\n",
              "[7148 rows x 9 columns]"
            ],
            "text/html": [
              "\n",
              "  <div id=\"df-dc90a987-04a2-41e3-9cf5-1cbadbff9ffc\" class=\"colab-df-container\">\n",
              "    <div>\n",
              "<style scoped>\n",
              "    .dataframe tbody tr th:only-of-type {\n",
              "        vertical-align: middle;\n",
              "    }\n",
              "\n",
              "    .dataframe tbody tr th {\n",
              "        vertical-align: top;\n",
              "    }\n",
              "\n",
              "    .dataframe thead th {\n",
              "        text-align: right;\n",
              "    }\n",
              "</style>\n",
              "<table border=\"1\" class=\"dataframe\">\n",
              "  <thead>\n",
              "    <tr style=\"text-align: right;\">\n",
              "      <th></th>\n",
              "      <th>make</th>\n",
              "      <th>model</th>\n",
              "      <th>year</th>\n",
              "      <th>engine_hp</th>\n",
              "      <th>engine_cylinders</th>\n",
              "      <th>transmission_type</th>\n",
              "      <th>vehicle_style</th>\n",
              "      <th>highway_mpg</th>\n",
              "      <th>city_mpg</th>\n",
              "    </tr>\n",
              "  </thead>\n",
              "  <tbody>\n",
              "    <tr>\n",
              "      <th>0</th>\n",
              "      <td>Mitsubishi</td>\n",
              "      <td>Endeavor</td>\n",
              "      <td>2011</td>\n",
              "      <td>225.0</td>\n",
              "      <td>6.0</td>\n",
              "      <td>AUTOMATIC</td>\n",
              "      <td>4dr SUV</td>\n",
              "      <td>19</td>\n",
              "      <td>15</td>\n",
              "    </tr>\n",
              "    <tr>\n",
              "      <th>1</th>\n",
              "      <td>Kia</td>\n",
              "      <td>Borrego</td>\n",
              "      <td>2009</td>\n",
              "      <td>276.0</td>\n",
              "      <td>6.0</td>\n",
              "      <td>AUTOMATIC</td>\n",
              "      <td>4dr SUV</td>\n",
              "      <td>21</td>\n",
              "      <td>17</td>\n",
              "    </tr>\n",
              "    <tr>\n",
              "      <th>2</th>\n",
              "      <td>Lamborghini</td>\n",
              "      <td>Gallardo</td>\n",
              "      <td>2012</td>\n",
              "      <td>570.0</td>\n",
              "      <td>10.0</td>\n",
              "      <td>MANUAL</td>\n",
              "      <td>Convertible</td>\n",
              "      <td>20</td>\n",
              "      <td>12</td>\n",
              "    </tr>\n",
              "    <tr>\n",
              "      <th>3</th>\n",
              "      <td>Chevrolet</td>\n",
              "      <td>Colorado</td>\n",
              "      <td>2016</td>\n",
              "      <td>200.0</td>\n",
              "      <td>4.0</td>\n",
              "      <td>AUTOMATIC</td>\n",
              "      <td>Crew Cab Pickup</td>\n",
              "      <td>27</td>\n",
              "      <td>20</td>\n",
              "    </tr>\n",
              "    <tr>\n",
              "      <th>4</th>\n",
              "      <td>Pontiac</td>\n",
              "      <td>Vibe</td>\n",
              "      <td>2009</td>\n",
              "      <td>158.0</td>\n",
              "      <td>4.0</td>\n",
              "      <td>AUTOMATIC</td>\n",
              "      <td>4dr Hatchback</td>\n",
              "      <td>26</td>\n",
              "      <td>20</td>\n",
              "    </tr>\n",
              "    <tr>\n",
              "      <th>...</th>\n",
              "      <td>...</td>\n",
              "      <td>...</td>\n",
              "      <td>...</td>\n",
              "      <td>...</td>\n",
              "      <td>...</td>\n",
              "      <td>...</td>\n",
              "      <td>...</td>\n",
              "      <td>...</td>\n",
              "      <td>...</td>\n",
              "    </tr>\n",
              "    <tr>\n",
              "      <th>7143</th>\n",
              "      <td>Toyota</td>\n",
              "      <td>Sienna</td>\n",
              "      <td>2016</td>\n",
              "      <td>266.0</td>\n",
              "      <td>6.0</td>\n",
              "      <td>AUTOMATIC</td>\n",
              "      <td>Passenger Minivan</td>\n",
              "      <td>25</td>\n",
              "      <td>18</td>\n",
              "    </tr>\n",
              "    <tr>\n",
              "      <th>7144</th>\n",
              "      <td>Chevrolet</td>\n",
              "      <td>HHR</td>\n",
              "      <td>2009</td>\n",
              "      <td>260.0</td>\n",
              "      <td>4.0</td>\n",
              "      <td>MANUAL</td>\n",
              "      <td>Wagon</td>\n",
              "      <td>29</td>\n",
              "      <td>21</td>\n",
              "    </tr>\n",
              "    <tr>\n",
              "      <th>7145</th>\n",
              "      <td>Hyundai</td>\n",
              "      <td>Veracruz</td>\n",
              "      <td>2012</td>\n",
              "      <td>260.0</td>\n",
              "      <td>6.0</td>\n",
              "      <td>AUTOMATIC</td>\n",
              "      <td>4dr SUV</td>\n",
              "      <td>22</td>\n",
              "      <td>17</td>\n",
              "    </tr>\n",
              "    <tr>\n",
              "      <th>7146</th>\n",
              "      <td>Mitsubishi</td>\n",
              "      <td>Expo</td>\n",
              "      <td>1993</td>\n",
              "      <td>136.0</td>\n",
              "      <td>4.0</td>\n",
              "      <td>MANUAL</td>\n",
              "      <td>2dr Hatchback</td>\n",
              "      <td>26</td>\n",
              "      <td>19</td>\n",
              "    </tr>\n",
              "    <tr>\n",
              "      <th>7147</th>\n",
              "      <td>Ford</td>\n",
              "      <td>Taurus</td>\n",
              "      <td>2015</td>\n",
              "      <td>365.0</td>\n",
              "      <td>6.0</td>\n",
              "      <td>AUTOMATIC</td>\n",
              "      <td>Sedan</td>\n",
              "      <td>25</td>\n",
              "      <td>17</td>\n",
              "    </tr>\n",
              "  </tbody>\n",
              "</table>\n",
              "<p>7148 rows × 9 columns</p>\n",
              "</div>\n",
              "    <div class=\"colab-df-buttons\">\n",
              "\n",
              "  <div class=\"colab-df-container\">\n",
              "    <button class=\"colab-df-convert\" onclick=\"convertToInteractive('df-dc90a987-04a2-41e3-9cf5-1cbadbff9ffc')\"\n",
              "            title=\"Convert this dataframe to an interactive table.\"\n",
              "            style=\"display:none;\">\n",
              "\n",
              "  <svg xmlns=\"http://www.w3.org/2000/svg\" height=\"24px\" viewBox=\"0 -960 960 960\">\n",
              "    <path d=\"M120-120v-720h720v720H120Zm60-500h600v-160H180v160Zm220 220h160v-160H400v160Zm0 220h160v-160H400v160ZM180-400h160v-160H180v160Zm440 0h160v-160H620v160ZM180-180h160v-160H180v160Zm440 0h160v-160H620v160Z\"/>\n",
              "  </svg>\n",
              "    </button>\n",
              "\n",
              "  <style>\n",
              "    .colab-df-container {\n",
              "      display:flex;\n",
              "      gap: 12px;\n",
              "    }\n",
              "\n",
              "    .colab-df-convert {\n",
              "      background-color: #E8F0FE;\n",
              "      border: none;\n",
              "      border-radius: 50%;\n",
              "      cursor: pointer;\n",
              "      display: none;\n",
              "      fill: #1967D2;\n",
              "      height: 32px;\n",
              "      padding: 0 0 0 0;\n",
              "      width: 32px;\n",
              "    }\n",
              "\n",
              "    .colab-df-convert:hover {\n",
              "      background-color: #E2EBFA;\n",
              "      box-shadow: 0px 1px 2px rgba(60, 64, 67, 0.3), 0px 1px 3px 1px rgba(60, 64, 67, 0.15);\n",
              "      fill: #174EA6;\n",
              "    }\n",
              "\n",
              "    .colab-df-buttons div {\n",
              "      margin-bottom: 4px;\n",
              "    }\n",
              "\n",
              "    [theme=dark] .colab-df-convert {\n",
              "      background-color: #3B4455;\n",
              "      fill: #D2E3FC;\n",
              "    }\n",
              "\n",
              "    [theme=dark] .colab-df-convert:hover {\n",
              "      background-color: #434B5C;\n",
              "      box-shadow: 0px 1px 3px 1px rgba(0, 0, 0, 0.15);\n",
              "      filter: drop-shadow(0px 1px 2px rgba(0, 0, 0, 0.3));\n",
              "      fill: #FFFFFF;\n",
              "    }\n",
              "  </style>\n",
              "\n",
              "    <script>\n",
              "      const buttonEl =\n",
              "        document.querySelector('#df-dc90a987-04a2-41e3-9cf5-1cbadbff9ffc button.colab-df-convert');\n",
              "      buttonEl.style.display =\n",
              "        google.colab.kernel.accessAllowed ? 'block' : 'none';\n",
              "\n",
              "      async function convertToInteractive(key) {\n",
              "        const element = document.querySelector('#df-dc90a987-04a2-41e3-9cf5-1cbadbff9ffc');\n",
              "        const dataTable =\n",
              "          await google.colab.kernel.invokeFunction('convertToInteractive',\n",
              "                                                    [key], {});\n",
              "        if (!dataTable) return;\n",
              "\n",
              "        const docLinkHtml = 'Like what you see? Visit the ' +\n",
              "          '<a target=\"_blank\" href=https://colab.research.google.com/notebooks/data_table.ipynb>data table notebook</a>'\n",
              "          + ' to learn more about interactive tables.';\n",
              "        element.innerHTML = '';\n",
              "        dataTable['output_type'] = 'display_data';\n",
              "        await google.colab.output.renderOutput(dataTable, element);\n",
              "        const docLink = document.createElement('div');\n",
              "        docLink.innerHTML = docLinkHtml;\n",
              "        element.appendChild(docLink);\n",
              "      }\n",
              "    </script>\n",
              "  </div>\n",
              "\n",
              "\n",
              "<div id=\"df-c01ea7be-972d-42a6-bc69-769ea1d945c7\">\n",
              "  <button class=\"colab-df-quickchart\" onclick=\"quickchart('df-c01ea7be-972d-42a6-bc69-769ea1d945c7')\"\n",
              "            title=\"Suggest charts.\"\n",
              "            style=\"display:none;\">\n",
              "\n",
              "<svg xmlns=\"http://www.w3.org/2000/svg\" height=\"24px\"viewBox=\"0 0 24 24\"\n",
              "     width=\"24px\">\n",
              "    <g>\n",
              "        <path d=\"M19 3H5c-1.1 0-2 .9-2 2v14c0 1.1.9 2 2 2h14c1.1 0 2-.9 2-2V5c0-1.1-.9-2-2-2zM9 17H7v-7h2v7zm4 0h-2V7h2v10zm4 0h-2v-4h2v4z\"/>\n",
              "    </g>\n",
              "</svg>\n",
              "  </button>\n",
              "\n",
              "<style>\n",
              "  .colab-df-quickchart {\n",
              "      --bg-color: #E8F0FE;\n",
              "      --fill-color: #1967D2;\n",
              "      --hover-bg-color: #E2EBFA;\n",
              "      --hover-fill-color: #174EA6;\n",
              "      --disabled-fill-color: #AAA;\n",
              "      --disabled-bg-color: #DDD;\n",
              "  }\n",
              "\n",
              "  [theme=dark] .colab-df-quickchart {\n",
              "      --bg-color: #3B4455;\n",
              "      --fill-color: #D2E3FC;\n",
              "      --hover-bg-color: #434B5C;\n",
              "      --hover-fill-color: #FFFFFF;\n",
              "      --disabled-bg-color: #3B4455;\n",
              "      --disabled-fill-color: #666;\n",
              "  }\n",
              "\n",
              "  .colab-df-quickchart {\n",
              "    background-color: var(--bg-color);\n",
              "    border: none;\n",
              "    border-radius: 50%;\n",
              "    cursor: pointer;\n",
              "    display: none;\n",
              "    fill: var(--fill-color);\n",
              "    height: 32px;\n",
              "    padding: 0;\n",
              "    width: 32px;\n",
              "  }\n",
              "\n",
              "  .colab-df-quickchart:hover {\n",
              "    background-color: var(--hover-bg-color);\n",
              "    box-shadow: 0 1px 2px rgba(60, 64, 67, 0.3), 0 1px 3px 1px rgba(60, 64, 67, 0.15);\n",
              "    fill: var(--button-hover-fill-color);\n",
              "  }\n",
              "\n",
              "  .colab-df-quickchart-complete:disabled,\n",
              "  .colab-df-quickchart-complete:disabled:hover {\n",
              "    background-color: var(--disabled-bg-color);\n",
              "    fill: var(--disabled-fill-color);\n",
              "    box-shadow: none;\n",
              "  }\n",
              "\n",
              "  .colab-df-spinner {\n",
              "    border: 2px solid var(--fill-color);\n",
              "    border-color: transparent;\n",
              "    border-bottom-color: var(--fill-color);\n",
              "    animation:\n",
              "      spin 1s steps(1) infinite;\n",
              "  }\n",
              "\n",
              "  @keyframes spin {\n",
              "    0% {\n",
              "      border-color: transparent;\n",
              "      border-bottom-color: var(--fill-color);\n",
              "      border-left-color: var(--fill-color);\n",
              "    }\n",
              "    20% {\n",
              "      border-color: transparent;\n",
              "      border-left-color: var(--fill-color);\n",
              "      border-top-color: var(--fill-color);\n",
              "    }\n",
              "    30% {\n",
              "      border-color: transparent;\n",
              "      border-left-color: var(--fill-color);\n",
              "      border-top-color: var(--fill-color);\n",
              "      border-right-color: var(--fill-color);\n",
              "    }\n",
              "    40% {\n",
              "      border-color: transparent;\n",
              "      border-right-color: var(--fill-color);\n",
              "      border-top-color: var(--fill-color);\n",
              "    }\n",
              "    60% {\n",
              "      border-color: transparent;\n",
              "      border-right-color: var(--fill-color);\n",
              "    }\n",
              "    80% {\n",
              "      border-color: transparent;\n",
              "      border-right-color: var(--fill-color);\n",
              "      border-bottom-color: var(--fill-color);\n",
              "    }\n",
              "    90% {\n",
              "      border-color: transparent;\n",
              "      border-bottom-color: var(--fill-color);\n",
              "    }\n",
              "  }\n",
              "</style>\n",
              "\n",
              "  <script>\n",
              "    async function quickchart(key) {\n",
              "      const quickchartButtonEl =\n",
              "        document.querySelector('#' + key + ' button');\n",
              "      quickchartButtonEl.disabled = true;  // To prevent multiple clicks.\n",
              "      quickchartButtonEl.classList.add('colab-df-spinner');\n",
              "      try {\n",
              "        const charts = await google.colab.kernel.invokeFunction(\n",
              "            'suggestCharts', [key], {});\n",
              "      } catch (error) {\n",
              "        console.error('Error during call to suggestCharts:', error);\n",
              "      }\n",
              "      quickchartButtonEl.classList.remove('colab-df-spinner');\n",
              "      quickchartButtonEl.classList.add('colab-df-quickchart-complete');\n",
              "    }\n",
              "    (() => {\n",
              "      let quickchartButtonEl =\n",
              "        document.querySelector('#df-c01ea7be-972d-42a6-bc69-769ea1d945c7 button');\n",
              "      quickchartButtonEl.style.display =\n",
              "        google.colab.kernel.accessAllowed ? 'block' : 'none';\n",
              "    })();\n",
              "  </script>\n",
              "</div>\n",
              "    </div>\n",
              "  </div>\n"
            ]
          },
          "metadata": {},
          "execution_count": 122
        }
      ]
    },
    {
      "cell_type": "markdown",
      "source": [
        "# **Question 3**\n",
        "Calculate the mutual information score between above_average and other categorical variables in our dataset. Use the training set only.\n",
        "Round the scores to 2 decimals using round(score, 2).\n",
        "\n",
        "Which of these variables has the lowest mutual information score?\n",
        "\n",
        "* make\n",
        "* model\n",
        "* transmission_type ✅\n",
        "* vehicle_style"
      ],
      "metadata": {
        "id": "-uAzHCIa7jDC"
      }
    },
    {
      "cell_type": "code",
      "source": [
        "from sklearn.metrics import mutual_info_score"
      ],
      "metadata": {
        "id": "VKsctgLm7rap"
      },
      "execution_count": null,
      "outputs": []
    },
    {
      "cell_type": "code",
      "source": [
        "def mutual_info_price_score(series):\n",
        "    return mutual_info_score(series, above_average_train)"
      ],
      "metadata": {
        "id": "tv5PiVq37sdl"
      },
      "execution_count": null,
      "outputs": []
    },
    {
      "cell_type": "code",
      "source": [
        "mi = df_train[categorical].apply(mutual_info_price_score)\n",
        "mi = round(mi,2)\n",
        "mi.sort_values(ascending=False)"
      ],
      "metadata": {
        "colab": {
          "base_uri": "https://localhost:8080/"
        },
        "id": "d2o5ChVI7saI",
        "outputId": "1eedced7-f65d-41d0-f7e0-eebfd224424a"
      },
      "execution_count": null,
      "outputs": [
        {
          "output_type": "execute_result",
          "data": {
            "text/plain": [
              "model                0.46\n",
              "make                 0.24\n",
              "vehicle_style        0.08\n",
              "transmission_type    0.02\n",
              "dtype: float64"
            ]
          },
          "metadata": {},
          "execution_count": 125
        }
      ]
    },
    {
      "cell_type": "markdown",
      "source": [
        "# **Question 4**\n",
        "* Now let's train a logistic regression.\n",
        "* Remember that we have several categorical variables in the dataset. Include them using one-hot encoding.\n",
        "* Fit the model on the training dataset.\n",
        "* To make sure the results are reproducible across different versions of Scikit-Learn, fit the model with these parameters:\n",
        "model = LogisticRegression(solver='liblinear', C=10, max_iter=1000, random_state=42)\n",
        "* Calculate the accuracy on the validation dataset and round it to 2 decimal digits.\n",
        "* What accuracy did you get?\n",
        "\n",
        "* 0.60\n",
        "* 0.72\n",
        "* 0.84\n",
        "* 0.95 ✅"
      ],
      "metadata": {
        "id": "Rsf8hpgWTvMB"
      }
    },
    {
      "cell_type": "code",
      "source": [
        "from sklearn.feature_extraction import DictVectorizer"
      ],
      "metadata": {
        "id": "vfwmC3Gz7sWw"
      },
      "execution_count": null,
      "outputs": []
    },
    {
      "cell_type": "code",
      "source": [
        "# one-hot coding\n",
        "dv = DictVectorizer(sparse=False)\n",
        "train_dict = df_train[categorical + numerical].to_dict(orient='records')\n",
        "X_train = dv.fit_transform(train_dict)\n",
        "\n",
        "val_dict = df_val[categorical + numerical].to_dict(orient='records')\n",
        "X_val = dv.transform(val_dict)"
      ],
      "metadata": {
        "id": "kC7MoMXZ7sTN"
      },
      "execution_count": null,
      "outputs": []
    },
    {
      "cell_type": "code",
      "source": [
        "from sklearn.linear_model import LogisticRegression"
      ],
      "metadata": {
        "id": "Fj6i6Qe6k123"
      },
      "execution_count": null,
      "outputs": []
    },
    {
      "cell_type": "code",
      "source": [
        "#Logistic Regression Model\n",
        "model = LogisticRegression(solver='liblinear', C=10, max_iter=1000, random_state=42)"
      ],
      "metadata": {
        "id": "qS2HURg2XNSp"
      },
      "execution_count": null,
      "outputs": []
    },
    {
      "cell_type": "code",
      "source": [
        "# Train Model on training Data\n",
        "# model.fit(X_train, y_train)\n",
        "model.fit(X_train, above_average_train)\n"
      ],
      "metadata": {
        "id": "sqQAoSSplB98",
        "colab": {
          "base_uri": "https://localhost:8080/",
          "height": 74
        },
        "outputId": "5cd38337-3307-4002-a816-06356a6e4632"
      },
      "execution_count": null,
      "outputs": [
        {
          "output_type": "execute_result",
          "data": {
            "text/plain": [
              "LogisticRegression(C=10, max_iter=1000, random_state=42, solver='liblinear')"
            ],
            "text/html": [
              "<style>#sk-container-id-3 {color: black;background-color: white;}#sk-container-id-3 pre{padding: 0;}#sk-container-id-3 div.sk-toggleable {background-color: white;}#sk-container-id-3 label.sk-toggleable__label {cursor: pointer;display: block;width: 100%;margin-bottom: 0;padding: 0.3em;box-sizing: border-box;text-align: center;}#sk-container-id-3 label.sk-toggleable__label-arrow:before {content: \"▸\";float: left;margin-right: 0.25em;color: #696969;}#sk-container-id-3 label.sk-toggleable__label-arrow:hover:before {color: black;}#sk-container-id-3 div.sk-estimator:hover label.sk-toggleable__label-arrow:before {color: black;}#sk-container-id-3 div.sk-toggleable__content {max-height: 0;max-width: 0;overflow: hidden;text-align: left;background-color: #f0f8ff;}#sk-container-id-3 div.sk-toggleable__content pre {margin: 0.2em;color: black;border-radius: 0.25em;background-color: #f0f8ff;}#sk-container-id-3 input.sk-toggleable__control:checked~div.sk-toggleable__content {max-height: 200px;max-width: 100%;overflow: auto;}#sk-container-id-3 input.sk-toggleable__control:checked~label.sk-toggleable__label-arrow:before {content: \"▾\";}#sk-container-id-3 div.sk-estimator input.sk-toggleable__control:checked~label.sk-toggleable__label {background-color: #d4ebff;}#sk-container-id-3 div.sk-label input.sk-toggleable__control:checked~label.sk-toggleable__label {background-color: #d4ebff;}#sk-container-id-3 input.sk-hidden--visually {border: 0;clip: rect(1px 1px 1px 1px);clip: rect(1px, 1px, 1px, 1px);height: 1px;margin: -1px;overflow: hidden;padding: 0;position: absolute;width: 1px;}#sk-container-id-3 div.sk-estimator {font-family: monospace;background-color: #f0f8ff;border: 1px dotted black;border-radius: 0.25em;box-sizing: border-box;margin-bottom: 0.5em;}#sk-container-id-3 div.sk-estimator:hover {background-color: #d4ebff;}#sk-container-id-3 div.sk-parallel-item::after {content: \"\";width: 100%;border-bottom: 1px solid gray;flex-grow: 1;}#sk-container-id-3 div.sk-label:hover label.sk-toggleable__label {background-color: #d4ebff;}#sk-container-id-3 div.sk-serial::before {content: \"\";position: absolute;border-left: 1px solid gray;box-sizing: border-box;top: 0;bottom: 0;left: 50%;z-index: 0;}#sk-container-id-3 div.sk-serial {display: flex;flex-direction: column;align-items: center;background-color: white;padding-right: 0.2em;padding-left: 0.2em;position: relative;}#sk-container-id-3 div.sk-item {position: relative;z-index: 1;}#sk-container-id-3 div.sk-parallel {display: flex;align-items: stretch;justify-content: center;background-color: white;position: relative;}#sk-container-id-3 div.sk-item::before, #sk-container-id-3 div.sk-parallel-item::before {content: \"\";position: absolute;border-left: 1px solid gray;box-sizing: border-box;top: 0;bottom: 0;left: 50%;z-index: -1;}#sk-container-id-3 div.sk-parallel-item {display: flex;flex-direction: column;z-index: 1;position: relative;background-color: white;}#sk-container-id-3 div.sk-parallel-item:first-child::after {align-self: flex-end;width: 50%;}#sk-container-id-3 div.sk-parallel-item:last-child::after {align-self: flex-start;width: 50%;}#sk-container-id-3 div.sk-parallel-item:only-child::after {width: 0;}#sk-container-id-3 div.sk-dashed-wrapped {border: 1px dashed gray;margin: 0 0.4em 0.5em 0.4em;box-sizing: border-box;padding-bottom: 0.4em;background-color: white;}#sk-container-id-3 div.sk-label label {font-family: monospace;font-weight: bold;display: inline-block;line-height: 1.2em;}#sk-container-id-3 div.sk-label-container {text-align: center;}#sk-container-id-3 div.sk-container {/* jupyter's `normalize.less` sets `[hidden] { display: none; }` but bootstrap.min.css set `[hidden] { display: none !important; }` so we also need the `!important` here to be able to override the default hidden behavior on the sphinx rendered scikit-learn.org. See: https://github.com/scikit-learn/scikit-learn/issues/21755 */display: inline-block !important;position: relative;}#sk-container-id-3 div.sk-text-repr-fallback {display: none;}</style><div id=\"sk-container-id-3\" class=\"sk-top-container\"><div class=\"sk-text-repr-fallback\"><pre>LogisticRegression(C=10, max_iter=1000, random_state=42, solver=&#x27;liblinear&#x27;)</pre><b>In a Jupyter environment, please rerun this cell to show the HTML representation or trust the notebook. <br />On GitHub, the HTML representation is unable to render, please try loading this page with nbviewer.org.</b></div><div class=\"sk-container\" hidden><div class=\"sk-item\"><div class=\"sk-estimator sk-toggleable\"><input class=\"sk-toggleable__control sk-hidden--visually\" id=\"sk-estimator-id-3\" type=\"checkbox\" checked><label for=\"sk-estimator-id-3\" class=\"sk-toggleable__label sk-toggleable__label-arrow\">LogisticRegression</label><div class=\"sk-toggleable__content\"><pre>LogisticRegression(C=10, max_iter=1000, random_state=42, solver=&#x27;liblinear&#x27;)</pre></div></div></div></div></div>"
            ]
          },
          "metadata": {},
          "execution_count": 130
        }
      ]
    },
    {
      "cell_type": "code",
      "source": [
        "model.intercept_[0]  # this is w0"
      ],
      "metadata": {
        "id": "uIhvA2DglNA1",
        "colab": {
          "base_uri": "https://localhost:8080/"
        },
        "outputId": "68e9ad77-6977-4043-c39a-bfd40b8ecb6f"
      },
      "execution_count": null,
      "outputs": [
        {
          "output_type": "execute_result",
          "data": {
            "text/plain": [
              "-0.08919584371745226"
            ]
          },
          "metadata": {},
          "execution_count": 131
        }
      ]
    },
    {
      "cell_type": "code",
      "source": [
        "model.coef_[0].round(3) # This Wi"
      ],
      "metadata": {
        "id": "IqnYgSjflM7U",
        "colab": {
          "base_uri": "https://localhost:8080/"
        },
        "outputId": "34d5a1dd-f88c-48f9-bf48-153969ab71ac"
      },
      "execution_count": null,
      "outputs": [
        {
          "output_type": "execute_result",
          "data": {
            "text/plain": [
              "array([ 4.900e-02,  1.000e-02,  3.300e-02,  4.400e-02,  1.056e+00,\n",
              "        6.260e-01,  2.400e-01,  2.202e+00,  1.896e+00,  8.300e-02,\n",
              "        0.000e+00, -4.030e-01,  1.866e+00, -1.482e+00, -1.245e+00,\n",
              "       -2.871e+00, -2.030e-01,  1.420e-01, -1.367e+00, -8.470e-01,\n",
              "        1.780e-01,  2.000e-03, -1.212e+00, -2.067e+00,  2.730e-01,\n",
              "       -1.454e+00,  4.000e-03,  1.840e+00,  1.181e+00,  1.105e+00,\n",
              "        2.352e+00,  4.260e-01,  2.000e-03, -1.100e+00,  0.000e+00,\n",
              "        1.175e+00, -9.470e-01, -8.050e-01, -5.840e-01, -4.800e-02,\n",
              "       -1.637e+00,  1.467e+00,  3.570e-01,  9.860e-01, -1.020e-01,\n",
              "        1.120e-01, -1.570e+00, -1.025e+00,  1.591e+00, -5.590e-01,\n",
              "       -5.590e-01,  8.360e-01, -3.040e-01, -6.700e-02, -1.600e-02,\n",
              "       -3.000e-03, -2.000e-03, -2.770e-01, -3.890e-01, -1.000e-03,\n",
              "       -1.000e-03, -1.000e-03, -1.320e-01,  3.500e-02,  4.660e-01,\n",
              "       -2.560e-01, -1.130e-01, -4.300e-02, -7.000e-02, -4.400e-02,\n",
              "       -0.000e+00, -4.000e-03, -4.430e-01,  6.100e-02, -4.500e-02,\n",
              "        5.880e-01,  2.900e-01, -1.430e-01, -1.500e-02,  3.400e-02,\n",
              "        0.000e+00,  6.260e-01,  3.220e-01, -1.000e-02,  4.700e-01,\n",
              "        2.640e-01, -1.900e-02, -6.670e-01, -1.800e-02, -1.060e-01,\n",
              "       -4.400e-02,  1.100e-02, -5.800e-02,  1.000e-03,  0.000e+00,\n",
              "        1.000e-02,  0.000e+00, -6.800e-02,  1.670e-01,  6.800e-02,\n",
              "       -5.710e-01, -3.000e-03,  1.000e-03,  1.000e-03, -4.000e-03,\n",
              "        7.500e-02, -1.100e-02, -1.000e-03, -5.000e-03, -3.540e-01,\n",
              "       -7.000e-03, -3.040e-01, -3.000e-02,  6.230e-01,  2.930e-01,\n",
              "       -2.180e-01,  2.090e-01,  2.110e-01, -3.300e-02, -7.000e-02,\n",
              "       -3.100e-02,  4.590e-01, -8.200e-02, -5.000e-03, -2.800e-02,\n",
              "       -5.600e-02, -2.000e-02, -1.160e-01, -5.270e-01, -1.770e-01,\n",
              "        5.820e-01,  5.740e-01,  2.340e-01,  9.200e-02,  0.000e+00,\n",
              "        0.000e+00,  0.000e+00, -6.970e-01, -5.600e-02,  7.700e-01,\n",
              "        2.720e-01, -7.000e-03, -1.000e-03, -5.570e-01, -8.300e-02,\n",
              "       -7.300e-02, -2.200e-02, -5.000e-03,  2.500e-02,  2.000e-02,\n",
              "        1.000e-03, -2.800e-02, -3.000e-03, -3.300e-02, -6.700e-02,\n",
              "       -2.790e-01, -9.000e-03, -4.200e-02,  8.650e-01,  2.100e-02,\n",
              "       -1.800e-01, -0.000e+00, -4.000e-03, -4.000e-03, -3.700e-02,\n",
              "        4.910e-01, -3.490e-01,  3.410e-01, -6.100e-02,  0.000e+00,\n",
              "       -2.000e-03,  9.700e-02, -1.000e-03, -1.510e-01, -1.400e-02,\n",
              "        6.000e-03,  0.000e+00, -1.400e-01, -2.000e-03, -3.000e-03,\n",
              "       -3.000e-03, -3.830e-01, -1.800e-02, -1.800e-02, -1.300e-01,\n",
              "       -6.940e-01, -2.000e-03,  2.240e-01,  1.160e-01, -1.100e-02,\n",
              "       -8.800e-02, -4.740e-01,  3.200e-01, -2.650e-01, -1.000e-03,\n",
              "       -3.000e-03, -1.000e-03,  1.000e-03, -2.600e-02,  6.650e-01,\n",
              "       -3.300e-02, -1.400e-02, -5.000e-03, -4.500e-02, -1.170e-01,\n",
              "        1.000e-02,  1.120e-01,  2.480e-01, -1.360e-01,  5.000e-03,\n",
              "       -1.900e-01,  4.210e-01,  5.400e-02, -2.020e-01, -1.200e-02,\n",
              "        1.940e-01,  5.630e-01,  7.700e-02,  1.140e-01,  0.000e+00,\n",
              "        0.000e+00,  0.000e+00, -3.000e-02, -1.690e-01, -2.090e-01,\n",
              "       -1.400e-02, -9.000e-03, -5.100e-02,  1.240e-01, -6.000e-03,\n",
              "       -1.110e+00, -3.010e-01, -8.500e-02, -1.650e-01, -9.710e-01,\n",
              "       -2.200e-02, -2.400e-02, -4.000e-03,  0.000e+00, -4.500e-02,\n",
              "       -4.800e-02, -5.000e-03,  5.600e-02,  3.000e-01,  1.360e-01,\n",
              "       -1.000e-03, -1.700e-02, -5.000e-03, -9.550e-01, -9.010e-01,\n",
              "       -7.000e-03, -1.000e-03, -1.600e-01, -0.000e+00, -1.000e-03,\n",
              "       -1.000e-03, -4.800e-02, -6.230e-01, -5.000e-03, -6.100e-02,\n",
              "        7.860e-01,  0.000e+00,  0.000e+00,  1.000e-03,  0.000e+00,\n",
              "        0.000e+00,  0.000e+00,  0.000e+00,  0.000e+00,  0.000e+00,\n",
              "       -1.000e-03,  5.700e-02, -4.500e-02, -1.000e-03, -1.000e-03,\n",
              "        1.530e-01,  1.000e-02,  1.600e-01, -2.000e-03, -3.000e-02,\n",
              "       -3.060e-01, -1.200e-02, -1.100e-02, -4.500e-02, -1.000e-02,\n",
              "       -3.000e-03, -2.000e-03, -3.000e-03, -1.300e-02, -1.100e-02,\n",
              "       -1.500e-02,  3.000e-03,  0.000e+00,  1.100e-02,  5.400e-01,\n",
              "       -6.500e-02, -2.500e-02,  0.000e+00, -3.000e-03,  6.140e-01,\n",
              "       -5.000e-03,  1.000e-03, -2.400e-02,  1.670e-01, -2.800e-02,\n",
              "        6.100e-02,  1.198e+00, -1.000e-03, -3.000e-03, -5.000e-03,\n",
              "        1.322e+00, -2.400e-02, -3.700e-02, -1.760e-01, -4.000e-03,\n",
              "       -1.000e-03, -4.200e-02,  2.390e-01, -7.730e-01, -1.053e+00,\n",
              "       -2.700e-02, -1.800e-01, -4.390e-01, -5.400e-02, -2.500e-02,\n",
              "       -4.000e-02, -5.000e-03, -6.000e-03, -3.000e-03, -5.400e-02,\n",
              "       -4.000e-03, -2.000e-02,  7.970e-01,  7.920e-01, -5.000e-02,\n",
              "       -8.400e-02, -2.900e-02,  2.350e-01, -6.770e-01, -4.960e-01,\n",
              "       -8.400e-02,  1.270e-01, -1.090e-01, -1.180e-01,  3.200e-02,\n",
              "        2.600e-02,  1.500e-02,  2.300e-02,  1.120e-01, -3.800e-02,\n",
              "       -4.000e-02, -1.000e-03,  1.370e-01, -1.200e-02, -4.000e-03,\n",
              "        7.100e-01, -0.000e+00,  7.080e-01,  8.500e-01, -4.100e-02,\n",
              "       -1.600e-02, -2.240e-01, -1.000e-03, -1.570e-01, -2.600e-02,\n",
              "        7.550e-01, -8.000e-03, -5.000e-02, -1.200e-02,  0.000e+00,\n",
              "        2.400e-02,  0.000e+00, -1.420e-01, -5.400e-02,  3.600e-01,\n",
              "        1.100e-01,  7.500e-02,  9.000e-03, -0.000e+00, -5.000e-03,\n",
              "       -3.570e-01, -7.000e-03, -2.700e-02, -1.890e-01, -1.170e-01,\n",
              "        1.000e-03, -2.600e-02, -2.400e-02, -1.000e-02, -1.960e-01,\n",
              "       -4.000e-02, -0.000e+00, -4.000e-02, -8.000e-03, -2.900e-02,\n",
              "       -3.880e-01, -9.200e-02, -5.300e-02,  2.030e-01,  9.300e-02,\n",
              "       -4.300e-01,  1.200e-02, -7.000e-03, -0.000e+00, -6.880e-01,\n",
              "       -5.250e-01,  9.400e-02, -2.290e-01, -1.810e-01, -4.000e-03,\n",
              "       -1.040e-01, -3.250e-01,  1.780e-01,  2.420e-01, -2.180e-01,\n",
              "       -1.060e-01,  2.930e-01,  8.000e-03, -7.300e-02, -6.580e-01,\n",
              "        1.000e-03,  4.910e-01,  2.470e-01,  2.860e-01, -2.240e-01,\n",
              "        8.500e-02,  2.500e-02,  9.000e-02,  3.000e-03,  2.000e-03,\n",
              "       -1.480e-01, -2.670e-01,  1.200e-01,  3.610e-01, -8.000e-03,\n",
              "        2.000e-03,  4.400e-02, -7.220e-01,  7.900e-02,  0.000e+00,\n",
              "        0.000e+00, -4.700e-02, -4.000e-03, -1.780e-01, -1.600e-01,\n",
              "       -6.800e-02,  4.600e-02,  1.800e-02,  7.000e-03, -1.300e-02,\n",
              "       -1.370e-01, -2.180e-01, -2.700e-02, -6.000e-03,  1.740e-01,\n",
              "       -1.720e-01, -4.900e-02, -2.100e-02, -1.000e-01,  2.160e-01,\n",
              "        2.220e-01, -0.000e+00,  0.000e+00, -7.400e-02, -6.900e-02,\n",
              "       -2.130e-01, -3.000e-03, -1.600e-01, -1.120e-01,  1.240e-01,\n",
              "       -5.100e-02, -1.320e-01,  2.100e-02,  4.000e-03, -7.000e-03,\n",
              "       -2.590e-01, -1.000e-03, -3.500e-02, -1.400e-01, -5.000e-03,\n",
              "       -3.000e-02, -1.900e-02, -4.900e-02, -3.200e-02,  1.230e-01,\n",
              "       -2.030e-01, -1.990e-01, -6.900e-02, -5.800e-02, -7.000e-02,\n",
              "       -3.420e-01, -5.300e-02, -0.000e+00,  1.440e-01, -6.800e-02,\n",
              "        0.000e+00, -3.300e-02,  4.100e-02,  1.440e-01,  1.170e-01,\n",
              "       -6.400e-02, -2.080e-01,  1.000e-01,  1.330e-01,  2.000e-03,\n",
              "       -1.300e-02, -2.000e-03, -1.800e-02,  1.690e-01,  2.700e-02,\n",
              "       -6.840e-01, -1.700e-02, -1.280e-01, -7.000e-03,  2.700e-02,\n",
              "       -8.000e-03, -3.000e-03, -1.000e-03, -2.100e-02, -2.700e-02,\n",
              "       -9.600e-02, -1.000e-01,  3.000e-03, -0.000e+00,  1.840e-01,\n",
              "       -7.000e-03, -2.000e-03,  3.990e-01,  4.790e-01,  3.800e-02,\n",
              "        5.000e-03, -1.900e-02,  5.430e-01,  6.400e-02,  1.000e-02,\n",
              "        3.590e-01,  0.000e+00,  1.100e-02,  0.000e+00,  0.000e+00,\n",
              "        8.580e-01, -3.200e-02, -1.710e-01,  1.440e-01, -2.600e-01,\n",
              "        3.060e-01, -3.100e-02,  0.000e+00, -2.400e-02, -2.000e-03,\n",
              "       -1.000e-02, -1.000e-03, -9.700e-02, -1.000e-03,  1.900e-01,\n",
              "       -5.900e-01, -1.200e-01, -1.500e-02, -5.000e-03, -2.100e-02,\n",
              "       -2.300e-02, -2.550e-01, -1.120e-01, -2.630e-01, -4.000e-03,\n",
              "       -3.940e-01,  0.000e+00, -8.000e-03, -9.000e-03, -2.000e-03,\n",
              "       -3.600e-02, -0.000e+00, -0.000e+00, -3.500e-02, -4.000e-03,\n",
              "       -1.000e-03,  1.591e+00, -1.000e-03, -2.200e-02, -3.000e-03,\n",
              "       -7.300e-02, -1.600e-02, -6.900e-02,  1.000e-03,  4.740e-01,\n",
              "        3.750e-01,  0.000e+00, -9.140e-01, -2.640e-01,  6.330e-01,\n",
              "       -1.000e-03, -1.000e-03, -6.690e-01,  1.070e-01, -3.000e-03,\n",
              "        7.500e-02, -1.400e-02, -4.000e-02, -1.100e-02, -2.100e-02,\n",
              "       -9.700e-02,  6.060e-01, -0.000e+00, -2.730e-01, -3.900e-02,\n",
              "       -1.900e-01, -8.900e-02, -8.600e-02, -7.000e-03, -1.230e-01,\n",
              "        2.570e-01,  1.620e-01, -1.000e-03, -2.060e-01, -4.500e-02,\n",
              "       -5.000e-02,  5.400e-01,  1.500e-02,  9.000e-03,  3.000e-03,\n",
              "       -1.000e-03, -2.200e-01, -0.000e+00, -6.000e-03, -6.000e-03,\n",
              "       -3.100e-02, -3.000e-03, -8.000e-03, -2.500e-02, -2.000e-03,\n",
              "       -0.000e+00, -1.000e-03, -0.000e+00,  1.490e-01, -4.490e-01,\n",
              "       -1.500e-01,  6.100e-02,  4.750e-01,  3.290e-01,  1.530e-01,\n",
              "        8.140e-01,  3.010e-01,  4.780e-01,  2.000e-02, -8.100e-02,\n",
              "       -6.530e-01,  1.490e-01,  7.570e-01,  1.590e-01,  2.800e-02,\n",
              "        6.500e-02,  2.030e-01,  6.000e-01, -8.000e-03,  1.000e-02,\n",
              "       -4.000e-03, -2.000e-03, -1.310e-01,  2.680e-01, -5.200e-02,\n",
              "       -1.440e-01,  2.820e-01,  1.820e-01, -1.153e+00,  5.740e-01,\n",
              "        2.880e-01,  1.300e-02,  2.000e-03,  0.000e+00, -1.500e-02,\n",
              "       -1.600e-01, -2.200e-01,  2.890e-01,  1.590e-01,  9.000e-02,\n",
              "       -1.600e-02, -2.400e-02, -9.000e-03, -4.000e-02, -3.260e-01,\n",
              "       -3.000e-03, -0.000e+00, -3.000e-03, -7.850e-01, -4.000e-03,\n",
              "       -0.000e+00, -1.100e-02,  1.130e-01,  1.157e+00,  1.120e-01,\n",
              "       -9.000e-03,  7.000e-03,  0.000e+00, -9.000e-03, -2.690e-01,\n",
              "       -7.000e-03, -1.100e-02, -3.000e-03,  0.000e+00, -4.000e-03,\n",
              "       -2.000e-02, -2.100e-02, -1.440e-01, -8.300e-02, -1.200e-02,\n",
              "       -1.300e-02, -1.800e-02, -5.000e-03, -7.000e-03, -1.000e-03,\n",
              "       -4.000e-03,  5.000e-03, -7.100e-02,  7.000e-02,  1.370e-01,\n",
              "       -9.700e-02,  8.100e-02,  3.000e-03, -2.730e-01,  1.460e-01,\n",
              "        2.000e-03, -5.500e-02,  0.000e+00,  1.960e-01,  3.300e-02,\n",
              "       -6.500e-02, -1.960e-01,  4.800e-02,  1.600e-02,  3.000e-03,\n",
              "        2.600e-01,  0.000e+00,  0.000e+00,  0.000e+00,  0.000e+00,\n",
              "       -1.000e-02,  2.100e-02,  0.000e+00, -2.120e-01,  1.700e-01,\n",
              "        1.000e-03, -1.800e-02, -1.800e-02, -3.000e-03, -7.000e-03,\n",
              "       -0.000e+00, -4.440e-01, -1.700e-01, -2.290e-01, -1.160e-01,\n",
              "       -1.000e-03, -1.530e-01, -6.800e-02, -2.100e-02, -2.000e-03,\n",
              "        4.480e-01,  2.340e-01, -1.000e-03,  8.000e-03,  0.000e+00,\n",
              "       -4.000e-03,  7.700e-01,  7.200e-01, -3.980e-01,  2.910e-01,\n",
              "       -2.080e-01, -2.200e-02, -3.000e-03, -0.000e+00, -2.700e-02,\n",
              "        2.720e-01,  1.122e+00, -2.590e-01,  6.450e-01, -8.000e-03,\n",
              "       -9.500e-02, -2.000e-01, -5.500e-02, -1.900e-02, -2.000e-03,\n",
              "       -5.690e-01, -1.000e-02, -1.200e-02, -3.000e-03, -6.880e-01,\n",
              "       -1.100e-02, -0.000e+00, -1.480e-01, -3.000e-03,  3.800e-02,\n",
              "       -1.000e-03, -3.800e-02, -1.000e-02,  4.140e-01, -2.000e-03,\n",
              "       -1.000e-03, -1.000e-03, -2.000e-03, -1.000e-03, -1.100e-02,\n",
              "       -2.000e-03,  2.700e-01, -1.620e-01, -2.540e-01, -1.000e-01,\n",
              "        1.960e-01,  7.200e-02, -3.720e-01,  6.380e-01,  3.190e-01,\n",
              "       -2.200e-02, -4.230e-01, -1.410e-01, -1.000e-03, -1.000e-03,\n",
              "       -1.880e-01, -5.800e-02, -3.880e-01, -6.000e-03, -1.360e-01,\n",
              "       -6.370e-01, -5.000e-03, -1.060e-01,  1.373e+00,  4.000e-02,\n",
              "        8.220e-01, -1.160e-01, -6.000e-03, -1.315e+00, -2.930e-01,\n",
              "       -9.000e-03, -4.200e-02,  6.020e-01,  1.000e-03, -2.800e-02,\n",
              "       -1.010e-01, -2.040e-01, -2.100e-02, -3.000e-03, -5.700e-02,\n",
              "       -1.019e+00, -5.800e-02, -8.700e-02,  1.100e-02,  5.000e-03,\n",
              "        0.000e+00, -3.000e-02, -1.700e-01, -2.590e-01,  5.030e-01,\n",
              "       -4.700e-02,  2.010e-01, -0.000e+00, -0.000e+00, -3.000e-03,\n",
              "        1.000e-03, -0.000e+00, -3.600e-02, -1.400e-02, -3.870e-01,\n",
              "       -2.010e-01, -1.210e-01, -5.000e-03, -7.000e-03, -4.000e-03,\n",
              "        0.000e+00, -3.000e-03, -4.000e-03,  2.000e-03,  1.000e-03,\n",
              "       -6.000e-03, -1.200e-02, -3.330e-01, -2.300e-02, -5.000e-03,\n",
              "        0.000e+00, -0.000e+00, -5.560e-01,  9.500e-02,  2.390e-01,\n",
              "        1.750e-01,  0.000e+00,  8.300e-02,  0.000e+00, -1.200e-02,\n",
              "        3.860e-01,  3.520e-01,  5.740e-01, -2.000e-03, -9.000e-03,\n",
              "       -6.300e-02, -6.710e-01,  8.100e-02,  1.000e-03, -1.000e-03,\n",
              "        3.200e-02,  4.170e-01, -2.700e-02, -2.170e-01, -5.000e-03,\n",
              "       -0.000e+00,  2.020e-01, -1.800e-02,  2.680e-01,  2.700e-01,\n",
              "       -1.830e-01,  1.310e-01,  1.580e-01,  1.200e-02,  6.110e-01,\n",
              "        5.660e-01,  1.170e-01, -4.260e-01, -1.220e-01,  2.000e-03,\n",
              "       -3.000e-03, -2.000e-03, -2.800e-02, -2.000e-03, -1.000e-02,\n",
              "       -3.000e-03, -1.390e-01, -7.200e-02,  3.750e-01, -1.850e-01,\n",
              "       -6.900e-02, -9.010e-01,  3.060e-01, -1.264e+00,  1.291e+00,\n",
              "       -6.900e-02, -1.890e-01,  1.395e+00,  3.730e-01, -1.850e-01,\n",
              "        7.400e-02, -8.180e-01,  8.000e-01,  1.710e-01, -1.576e+00,\n",
              "        5.130e-01, -1.100e-02, -6.000e-03])"
            ]
          },
          "metadata": {},
          "execution_count": 132
        }
      ]
    },
    {
      "cell_type": "code",
      "source": [
        "y_pred = model.predict_proba(X_val)[:, 1]\n",
        "y_pred"
      ],
      "metadata": {
        "id": "cLVTfBAVlMfG",
        "colab": {
          "base_uri": "https://localhost:8080/"
        },
        "outputId": "196903ef-13ea-4124-af3d-8abfbe93ef56"
      },
      "execution_count": null,
      "outputs": [
        {
          "output_type": "execute_result",
          "data": {
            "text/plain": [
              "array([0.0087346 , 0.99033279, 0.00157489, ..., 0.00145975, 0.97178288,\n",
              "       0.96248167])"
            ]
          },
          "metadata": {},
          "execution_count": 133
        }
      ]
    },
    {
      "cell_type": "code",
      "source": [
        "price_decision = (y_pred >= 0.5)"
      ],
      "metadata": {
        "id": "FoWKiyPw4GgM"
      },
      "execution_count": null,
      "outputs": []
    },
    {
      "cell_type": "code",
      "source": [
        "accuracy = (above_average_val == price_decision).mean()\n",
        "# accuracy = round(accuracy,2)\n",
        "accuracy"
      ],
      "metadata": {
        "colab": {
          "base_uri": "https://localhost:8080/"
        },
        "id": "g9v7V_A34AT_",
        "outputId": "cdd25316-cb10-4493-e642-bdfc90ac7c3e"
      },
      "execution_count": null,
      "outputs": [
        {
          "output_type": "execute_result",
          "data": {
            "text/plain": [
              "0.9345362987830466"
            ]
          },
          "metadata": {},
          "execution_count": 135
        }
      ]
    },
    {
      "cell_type": "markdown",
      "source": [
        "# **Question 5**\n",
        "* Let's find the least useful feature using the feature elimination technique.\n",
        "* Train a model with all these features (using the same parameters as in Q4).\n",
        "* Now exclude each feature from this set and train a model without it. Record the accuracy for each model.\n",
        "* For each feature, calculate the difference between the original accuracy and the accuracy without the feature.\n",
        "* Which of following feature has the smallest difference?\n",
        "\n",
        "* year  >>> -0.013848090642047839\n",
        "* engine_hp >>> -0.00041963911036513313  ✅\n",
        "* transmission_type >>> -0.010490977759127218\n",
        "* city_mpg >>> --0.011330255979857373\n",
        "\n",
        "Note: the difference doesn't have to be positive"
      ],
      "metadata": {
        "id": "9wAASV4C-QoB"
      }
    },
    {
      "cell_type": "code",
      "source": [
        "def remove_element_from_list(input_list, element_to_remove):\n",
        "    my_list = input_list.copy()\n",
        "    try:\n",
        "        my_list.remove(element_to_remove)\n",
        "    except ValueError:\n",
        "        # Handle the case where the element is not in the list\n",
        "        pass\n",
        "    return my_list"
      ],
      "metadata": {
        "id": "L-BcgecZ6Hcc"
      },
      "execution_count": null,
      "outputs": []
    },
    {
      "cell_type": "code",
      "source": [
        "all_features = categorical + numerical\n",
        "\n",
        "for i in all_features:\n",
        "\n",
        "    applied_features= remove_element_from_list(all_features,i)\n",
        "    print(f'Removed <<{i}>> Applied Features: {applied_features}')\n",
        "\n",
        "    dv = DictVectorizer(sparse=False)\n",
        "    train_dict = df_train[applied_features].to_dict(orient='records')\n",
        "    X_train = dv.fit_transform(train_dict)\n",
        "\n",
        "    val_dict = df_val[applied_features].to_dict(orient='records')\n",
        "    X_val = dv.transform(val_dict)\n",
        "\n",
        "    model = LogisticRegression(solver='liblinear', C=10, max_iter=1000, random_state=42)\n",
        "    model.fit(X_train, above_average_train)\n",
        "\n",
        "    model.intercept_[0]  # this is w0\n",
        "    model.coef_[0].round(3) # This Wi\n",
        "    y_pred = model.predict_proba(X_val)[:, 1]\n",
        "\n",
        "    price_decision = (y_pred >= 0.5)\n",
        "    changed_accuracy = (above_average_val == price_decision).mean()\n",
        "    # changed_accuracy = round((above_average_val == price_decision).mean(),2)\n",
        "\n",
        "    print(f'Accuracy after removing feature <<{i}>> is {changed_accuracy} with deviation from all feature accuracy: {accuracy - changed_accuracy}')\n",
        "    print()\n",
        "\n"
      ],
      "metadata": {
        "colab": {
          "base_uri": "https://localhost:8080/"
        },
        "id": "Sa4lFcEk1AkV",
        "outputId": "8e9a8557-ee29-4a9a-8beb-e432224917c8"
      },
      "execution_count": null,
      "outputs": [
        {
          "output_type": "stream",
          "name": "stdout",
          "text": [
            "Removed <<make>> Applied Features: ['model', 'transmission_type', 'vehicle_style', 'year', 'engine_hp', 'engine_cylinders', 'highway_mpg', 'city_mpg']\n",
            "Accuracy after removing feature <<make>> is 0.9488040285354595 with deviation from all feature accuracy: -0.014267729752412972\n",
            "\n",
            "Removed <<model>> Applied Features: ['make', 'transmission_type', 'vehicle_style', 'year', 'engine_hp', 'engine_cylinders', 'highway_mpg', 'city_mpg']\n",
            "Accuracy after removing feature <<model>> is 0.9164918170373478 with deviation from all feature accuracy: 0.018044481745698726\n",
            "\n",
            "Removed <<transmission_type>> Applied Features: ['make', 'model', 'vehicle_style', 'year', 'engine_hp', 'engine_cylinders', 'highway_mpg', 'city_mpg']\n",
            "Accuracy after removing feature <<transmission_type>> is 0.9450272765421738 with deviation from all feature accuracy: -0.010490977759127218\n",
            "\n",
            "Removed <<vehicle_style>> Applied Features: ['make', 'model', 'transmission_type', 'year', 'engine_hp', 'engine_cylinders', 'highway_mpg', 'city_mpg']\n",
            "Accuracy after removing feature <<vehicle_style>> is 0.9320184641208561 with deviation from all feature accuracy: 0.0025178346621904657\n",
            "\n",
            "Removed <<year>> Applied Features: ['make', 'model', 'transmission_type', 'vehicle_style', 'engine_hp', 'engine_cylinders', 'highway_mpg', 'city_mpg']\n",
            "Accuracy after removing feature <<year>> is 0.9483843894250944 with deviation from all feature accuracy: -0.013848090642047839\n",
            "\n",
            "Removed <<engine_hp>> Applied Features: ['make', 'model', 'transmission_type', 'vehicle_style', 'year', 'engine_cylinders', 'highway_mpg', 'city_mpg']\n",
            "Accuracy after removing feature <<engine_hp>> is 0.9349559378934117 with deviation from all feature accuracy: -0.00041963911036513313\n",
            "\n",
            "Removed <<engine_cylinders>> Applied Features: ['make', 'model', 'transmission_type', 'vehicle_style', 'year', 'engine_hp', 'highway_mpg', 'city_mpg']\n",
            "Accuracy after removing feature <<engine_cylinders>> is 0.9471254720939991 with deviation from all feature accuracy: -0.01258917331095255\n",
            "\n",
            "Removed <<highway_mpg>> Applied Features: ['make', 'model', 'transmission_type', 'vehicle_style', 'year', 'engine_hp', 'engine_cylinders', 'city_mpg']\n",
            "Accuracy after removing feature <<highway_mpg>> is 0.9467058329836341 with deviation from all feature accuracy: -0.012169534200587528\n",
            "\n",
            "Removed <<city_mpg>> Applied Features: ['make', 'model', 'transmission_type', 'vehicle_style', 'year', 'engine_hp', 'engine_cylinders', 'highway_mpg']\n",
            "Accuracy after removing feature <<city_mpg>> is 0.9458665547629039 with deviation from all feature accuracy: -0.011330255979857373\n",
            "\n"
          ]
        }
      ]
    },
    {
      "cell_type": "markdown",
      "source": [
        "# **Question 6**\n",
        "* For this question, we'll see how to use a linear regression model from Scikit-Learn.\n",
        "* We'll need to use the original column price. Apply the logarithmic transformation to this column.\n",
        "* Fit the Ridge regression model on the training data with a solver 'sag'. Set the seed to 42.\n",
        "* This model also has a parameter alpha. Let's try the following values: [0, 0.01, 0.1, 1, 10].\n",
        "* Round your RMSE scores to 3 decimal digits.\n",
        "* Which of these alphas leads to the best RMSE on the validation set?\n",
        "\n",
        "* 0\n",
        "* 0.01 ✅\n",
        "* 0.1\n",
        "* 1\n",
        "* 10\n",
        "\n",
        "Note: If there are multiple options, select the smallest alpha."
      ],
      "metadata": {
        "id": "NPm2FjonBBad"
      }
    },
    {
      "cell_type": "code",
      "source": [
        "from sklearn.linear_model import Ridge"
      ],
      "metadata": {
        "id": "evFUiNnIkTsA"
      },
      "execution_count": null,
      "outputs": []
    },
    {
      "cell_type": "code",
      "source": [
        "# Get the train, val and test dataset with price\n",
        "df_full_train, df_test = train_test_split(df, test_size=0.2, random_state=42)\n",
        "df_train, df_val = train_test_split(df_full_train, test_size=0.25, random_state=42)\n",
        "\n",
        "# Reset Index, optional\n",
        "df_train = df_train.reset_index(drop=True)\n",
        "df_val = df_val.reset_index(drop=True)\n",
        "df_test = df_test.reset_index(drop=True)\n",
        "\n",
        "# y_train = df_train.price.values\n",
        "# y_val = df_val.price.values\n",
        "# y_test = df_test.price.values\n",
        "\n",
        "# Apply Log to Price Column\n",
        "y_train_l = np.log1p(df_train.price.values)\n",
        "y_val_l = np.log1p(df_val.price.values)\n",
        "y_test_l = np.log1p(df_test.price.values)\n",
        "\n",
        "del df_train['price']\n",
        "del df_val['price']\n",
        "del df_test['price']\n"
      ],
      "metadata": {
        "id": "7vtJ6yjnZ41a"
      },
      "execution_count": null,
      "outputs": []
    },
    {
      "cell_type": "code",
      "source": [
        "len(df_train),len(df_val),len(df_test)"
      ],
      "metadata": {
        "colab": {
          "base_uri": "https://localhost:8080/"
        },
        "id": "ipuuwMArbqTe",
        "outputId": "469bcf5d-6011-4d1b-cb16-022f9b6ff87c"
      },
      "execution_count": null,
      "outputs": [
        {
          "output_type": "execute_result",
          "data": {
            "text/plain": [
              "(7148, 2383, 2383)"
            ]
          },
          "metadata": {},
          "execution_count": 140
        }
      ]
    },
    {
      "cell_type": "code",
      "source": [
        "len(y_train_l),len(y_val_l),len(y_test_l)"
      ],
      "metadata": {
        "colab": {
          "base_uri": "https://localhost:8080/"
        },
        "id": "i1FMVP5LcMxi",
        "outputId": "064ea7d6-cbbc-4585-9359-ff6447e38ebb"
      },
      "execution_count": null,
      "outputs": [
        {
          "output_type": "execute_result",
          "data": {
            "text/plain": [
              "(7148, 2383, 2383)"
            ]
          },
          "metadata": {},
          "execution_count": 141
        }
      ]
    },
    {
      "cell_type": "code",
      "source": [
        "# # one-hot coding\n",
        "dv = DictVectorizer(sparse=False)\n",
        "train_dict = df_train[categorical + numerical].to_dict(orient='records')\n",
        "X_train = dv.fit_transform(train_dict)\n",
        "\n",
        "val_dict = df_val[categorical + numerical].to_dict(orient='records')\n",
        "X_val = dv.transform(val_dict)"
      ],
      "metadata": {
        "id": "N8fZ73A6Z4x-"
      },
      "execution_count": null,
      "outputs": []
    },
    {
      "cell_type": "markdown",
      "source": [
        "* Fit the Ridge regression model on the training data with a solver 'sag'. Set the seed to 42.\n",
        "* This model also has a parameter alpha. Let's try the following values: [0, 0.01, 0.1, 1, 10].\n",
        "* Round your RMSE scores to 3 decimal digits.\n",
        "* Which of these alphas leads to the best RMSE on the validation set?"
      ],
      "metadata": {
        "id": "qvaMZP7RUagZ"
      }
    },
    {
      "cell_type": "code",
      "source": [
        "def rmse(y, y_pred):\n",
        "    se = (y - y_pred) ** 2\n",
        "    mse = se.mean()\n",
        "    return np.sqrt(mse)\n"
      ],
      "metadata": {
        "id": "NXRiu5h9YtoX"
      },
      "execution_count": null,
      "outputs": []
    },
    {
      "cell_type": "code",
      "source": [
        "# Training model with  alpha value\n",
        "alpha_range = [0, 0.01, 0.1, 1, 10]\n",
        "for alp in alpha_range:\n",
        "    model = Ridge(alpha = alp, solver ='sag', max_iter=2000, random_state = 42)\n",
        "    model.fit(X_train, y_train_l)\n",
        "\n",
        "    # predicting the y_val\n",
        "    y_pred = model.predict(X_val)\n",
        "    # y_pred\n",
        "    rmse_val = rmse(y_val_l, y_pred)\n",
        "    print(f' Alpha value: {alp}  rmse: {rmse_val}')"
      ],
      "metadata": {
        "colab": {
          "base_uri": "https://localhost:8080/"
        },
        "id": "55P4RykMkxj1",
        "outputId": "872fbeb0-13ac-4722-c5e0-4c383a36191f"
      },
      "execution_count": null,
      "outputs": [
        {
          "output_type": "stream",
          "name": "stderr",
          "text": [
            "/usr/local/lib/python3.10/dist-packages/sklearn/linear_model/_sag.py:350: ConvergenceWarning: The max_iter was reached which means the coef_ did not converge\n",
            "  warnings.warn(\n"
          ]
        },
        {
          "output_type": "stream",
          "name": "stdout",
          "text": [
            " Alpha value: 0  rmse: 0.4692045485581754\n"
          ]
        },
        {
          "output_type": "stream",
          "name": "stderr",
          "text": [
            "/usr/local/lib/python3.10/dist-packages/sklearn/linear_model/_sag.py:350: ConvergenceWarning: The max_iter was reached which means the coef_ did not converge\n",
            "  warnings.warn(\n"
          ]
        },
        {
          "output_type": "stream",
          "name": "stdout",
          "text": [
            " Alpha value: 0.01  rmse: 0.4692051229685141\n"
          ]
        },
        {
          "output_type": "stream",
          "name": "stderr",
          "text": [
            "/usr/local/lib/python3.10/dist-packages/sklearn/linear_model/_sag.py:350: ConvergenceWarning: The max_iter was reached which means the coef_ did not converge\n",
            "  warnings.warn(\n"
          ]
        },
        {
          "output_type": "stream",
          "name": "stdout",
          "text": [
            " Alpha value: 0.1  rmse: 0.4692102924049376\n"
          ]
        },
        {
          "output_type": "stream",
          "name": "stderr",
          "text": [
            "/usr/local/lib/python3.10/dist-packages/sklearn/linear_model/_sag.py:350: ConvergenceWarning: The max_iter was reached which means the coef_ did not converge\n",
            "  warnings.warn(\n"
          ]
        },
        {
          "output_type": "stream",
          "name": "stdout",
          "text": [
            " Alpha value: 1  rmse: 0.4692619637786512\n",
            " Alpha value: 10  rmse: 0.46977636415582497\n"
          ]
        },
        {
          "output_type": "stream",
          "name": "stderr",
          "text": [
            "/usr/local/lib/python3.10/dist-packages/sklearn/linear_model/_sag.py:350: ConvergenceWarning: The max_iter was reached which means the coef_ did not converge\n",
            "  warnings.warn(\n"
          ]
        }
      ]
    },
    {
      "cell_type": "code",
      "source": [
        "# from sklearn.preprocessing import StandardScaler\n",
        "# scaler = StandardScaler()\n",
        "\n",
        "# scaled_X_train = scaler.fit_transform(X_train)\n",
        "# scaled_X_val = scaler.transform(X_val)\n",
        "\n",
        "# # Training model with  alpha value\n",
        "# alpha_range = [0, 0.01, 0.1, 1, 10]\n",
        "\n",
        "# for alp in alpha_range:\n",
        "#     model = Ridge(alpha = alp, solver ='sag', random_state = 42)\n",
        "#     model.fit(scaled_X_train, y_train_l)\n",
        "\n",
        "#     # predicting the y_val\n",
        "#     y_pred = model.predict(scaled_X_val)\n",
        "#     # y_pred\n",
        "#     rmse_val = rmse(y_val_l, y_pred)\n",
        "#     print(f' Alpha value: {alp}  rmse: {rmse_val}')\n"
      ],
      "metadata": {
        "id": "QhVM3E4ZZwoe"
      },
      "execution_count": null,
      "outputs": []
    }
  ]
}