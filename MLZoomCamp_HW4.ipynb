{
  "nbformat": 4,
  "nbformat_minor": 0,
  "metadata": {
    "colab": {
      "provenance": [],
      "authorship_tag": "ABX9TyODIgf3EXblwSCJjxCQTm1/",
      "include_colab_link": true
    },
    "kernelspec": {
      "name": "python3",
      "display_name": "Python 3"
    },
    "language_info": {
      "name": "python"
    }
  },
  "cells": [
    {
      "cell_type": "markdown",
      "metadata": {
        "id": "view-in-github",
        "colab_type": "text"
      },
      "source": [
        "<a href=\"https://colab.research.google.com/github/Arun-Pat/MLZoomCamp_AP/blob/main/MLZoomCamp_HW4.ipynb\" target=\"_parent\"><img src=\"https://colab.research.google.com/assets/colab-badge.svg\" alt=\"Open In Colab\"/></a>"
      ]
    },
    {
      "cell_type": "code",
      "source": [
        "import pandas as pd\n",
        "import numpy as np\n",
        "\n",
        "import matplotlib.pyplot as plt"
      ],
      "metadata": {
        "id": "6ahcLi9AChau"
      },
      "execution_count": null,
      "outputs": []
    },
    {
      "cell_type": "markdown",
      "source": [
        "# **Homework**\n",
        "Note: sometimes your answer doesn't match one of the options exactly. That's fine. Select the option that's closest to your solution.\n",
        "\n",
        "In this homework, we will use the Car price dataset like last week. Download it from here.\n",
        "\n",
        "Or you can do it with wget:\n",
        "\n",
        "wget https://raw.githubusercontent.com/alexeygrigorev/mlbookcamp-code/master/chapter-02-car-price/data.csv\n",
        "We'll work with the MSRP variable, and we'll transform it to a classification task.\n",
        "\n",
        "For the rest of the homework, you'll need to use only these columns:\n",
        "\n",
        "Make,\n",
        "Model,\n",
        "Year,\n",
        "Engine HP,\n",
        "Engine Cylinders,\n",
        "Transmission Type,\n",
        "Vehicle Style,\n",
        "highway MPG,\n",
        "city mpg\n",
        "MSRP"
      ],
      "metadata": {
        "id": "Sip6-lm-keER"
      }
    },
    {
      "cell_type": "code",
      "source": [
        "url = 'https://raw.githubusercontent.com/alexeygrigorev/mlbookcamp-code/master/chapter-02-car-price/data.csv'\n",
        "!wget $url -O car_data.csv\n"
      ],
      "metadata": {
        "id": "VQ59p2PTkwDi",
        "colab": {
          "base_uri": "https://localhost:8080/"
        },
        "outputId": "d783f62e-4c66-4926-83cf-69e71ba5deaa"
      },
      "execution_count": null,
      "outputs": [
        {
          "output_type": "stream",
          "name": "stdout",
          "text": [
            "--2023-10-06 16:44:02--  https://raw.githubusercontent.com/alexeygrigorev/mlbookcamp-code/master/chapter-02-car-price/data.csv\n",
            "Resolving raw.githubusercontent.com (raw.githubusercontent.com)... 185.199.108.133, 185.199.109.133, 185.199.110.133, ...\n",
            "Connecting to raw.githubusercontent.com (raw.githubusercontent.com)|185.199.108.133|:443... connected.\n",
            "HTTP request sent, awaiting response... 200 OK\n",
            "Length: 1475504 (1.4M) [text/plain]\n",
            "Saving to: ‘car_data.csv’\n",
            "\n",
            "\rcar_data.csv          0%[                    ]       0  --.-KB/s               \rcar_data.csv        100%[===================>]   1.41M  --.-KB/s    in 0.04s   \n",
            "\n",
            "2023-10-06 16:44:02 (33.2 MB/s) - ‘car_data.csv’ saved [1475504/1475504]\n",
            "\n"
          ]
        }
      ]
    },
    {
      "cell_type": "code",
      "source": [
        "df = pd.read_csv('car_data.csv')\n",
        "df.orig = df.copy()\n",
        "column_list = ['Make', 'Model', 'Year', 'Engine HP', 'Engine Cylinders', 'Transmission Type', 'Vehicle Style', 'highway MPG', 'city mpg','MSRP']\n",
        "df = df[column_list]\n",
        "df.head()"
      ],
      "metadata": {
        "colab": {
          "base_uri": "https://localhost:8080/",
          "height": 297
        },
        "id": "u3widN60VO9L",
        "outputId": "d416c552-b14b-45bd-e7ac-add78b674aa1"
      },
      "execution_count": null,
      "outputs": [
        {
          "output_type": "stream",
          "name": "stderr",
          "text": [
            "<ipython-input-263-9c325ddcd92e>:2: UserWarning: Pandas doesn't allow columns to be created via a new attribute name - see https://pandas.pydata.org/pandas-docs/stable/indexing.html#attribute-access\n",
            "  df.orig = df.copy()\n"
          ]
        },
        {
          "output_type": "execute_result",
          "data": {
            "text/plain": [
              "  Make       Model  Year  Engine HP  Engine Cylinders Transmission Type  \\\n",
              "0  BMW  1 Series M  2011      335.0               6.0            MANUAL   \n",
              "1  BMW    1 Series  2011      300.0               6.0            MANUAL   \n",
              "2  BMW    1 Series  2011      300.0               6.0            MANUAL   \n",
              "3  BMW    1 Series  2011      230.0               6.0            MANUAL   \n",
              "4  BMW    1 Series  2011      230.0               6.0            MANUAL   \n",
              "\n",
              "  Vehicle Style  highway MPG  city mpg   MSRP  \n",
              "0         Coupe           26        19  46135  \n",
              "1   Convertible           28        19  40650  \n",
              "2         Coupe           28        20  36350  \n",
              "3         Coupe           28        18  29450  \n",
              "4   Convertible           28        18  34500  "
            ],
            "text/html": [
              "\n",
              "  <div id=\"df-23eeaecc-a18b-4638-b7a8-9821d0dbcfad\" class=\"colab-df-container\">\n",
              "    <div>\n",
              "<style scoped>\n",
              "    .dataframe tbody tr th:only-of-type {\n",
              "        vertical-align: middle;\n",
              "    }\n",
              "\n",
              "    .dataframe tbody tr th {\n",
              "        vertical-align: top;\n",
              "    }\n",
              "\n",
              "    .dataframe thead th {\n",
              "        text-align: right;\n",
              "    }\n",
              "</style>\n",
              "<table border=\"1\" class=\"dataframe\">\n",
              "  <thead>\n",
              "    <tr style=\"text-align: right;\">\n",
              "      <th></th>\n",
              "      <th>Make</th>\n",
              "      <th>Model</th>\n",
              "      <th>Year</th>\n",
              "      <th>Engine HP</th>\n",
              "      <th>Engine Cylinders</th>\n",
              "      <th>Transmission Type</th>\n",
              "      <th>Vehicle Style</th>\n",
              "      <th>highway MPG</th>\n",
              "      <th>city mpg</th>\n",
              "      <th>MSRP</th>\n",
              "    </tr>\n",
              "  </thead>\n",
              "  <tbody>\n",
              "    <tr>\n",
              "      <th>0</th>\n",
              "      <td>BMW</td>\n",
              "      <td>1 Series M</td>\n",
              "      <td>2011</td>\n",
              "      <td>335.0</td>\n",
              "      <td>6.0</td>\n",
              "      <td>MANUAL</td>\n",
              "      <td>Coupe</td>\n",
              "      <td>26</td>\n",
              "      <td>19</td>\n",
              "      <td>46135</td>\n",
              "    </tr>\n",
              "    <tr>\n",
              "      <th>1</th>\n",
              "      <td>BMW</td>\n",
              "      <td>1 Series</td>\n",
              "      <td>2011</td>\n",
              "      <td>300.0</td>\n",
              "      <td>6.0</td>\n",
              "      <td>MANUAL</td>\n",
              "      <td>Convertible</td>\n",
              "      <td>28</td>\n",
              "      <td>19</td>\n",
              "      <td>40650</td>\n",
              "    </tr>\n",
              "    <tr>\n",
              "      <th>2</th>\n",
              "      <td>BMW</td>\n",
              "      <td>1 Series</td>\n",
              "      <td>2011</td>\n",
              "      <td>300.0</td>\n",
              "      <td>6.0</td>\n",
              "      <td>MANUAL</td>\n",
              "      <td>Coupe</td>\n",
              "      <td>28</td>\n",
              "      <td>20</td>\n",
              "      <td>36350</td>\n",
              "    </tr>\n",
              "    <tr>\n",
              "      <th>3</th>\n",
              "      <td>BMW</td>\n",
              "      <td>1 Series</td>\n",
              "      <td>2011</td>\n",
              "      <td>230.0</td>\n",
              "      <td>6.0</td>\n",
              "      <td>MANUAL</td>\n",
              "      <td>Coupe</td>\n",
              "      <td>28</td>\n",
              "      <td>18</td>\n",
              "      <td>29450</td>\n",
              "    </tr>\n",
              "    <tr>\n",
              "      <th>4</th>\n",
              "      <td>BMW</td>\n",
              "      <td>1 Series</td>\n",
              "      <td>2011</td>\n",
              "      <td>230.0</td>\n",
              "      <td>6.0</td>\n",
              "      <td>MANUAL</td>\n",
              "      <td>Convertible</td>\n",
              "      <td>28</td>\n",
              "      <td>18</td>\n",
              "      <td>34500</td>\n",
              "    </tr>\n",
              "  </tbody>\n",
              "</table>\n",
              "</div>\n",
              "    <div class=\"colab-df-buttons\">\n",
              "\n",
              "  <div class=\"colab-df-container\">\n",
              "    <button class=\"colab-df-convert\" onclick=\"convertToInteractive('df-23eeaecc-a18b-4638-b7a8-9821d0dbcfad')\"\n",
              "            title=\"Convert this dataframe to an interactive table.\"\n",
              "            style=\"display:none;\">\n",
              "\n",
              "  <svg xmlns=\"http://www.w3.org/2000/svg\" height=\"24px\" viewBox=\"0 -960 960 960\">\n",
              "    <path d=\"M120-120v-720h720v720H120Zm60-500h600v-160H180v160Zm220 220h160v-160H400v160Zm0 220h160v-160H400v160ZM180-400h160v-160H180v160Zm440 0h160v-160H620v160ZM180-180h160v-160H180v160Zm440 0h160v-160H620v160Z\"/>\n",
              "  </svg>\n",
              "    </button>\n",
              "\n",
              "  <style>\n",
              "    .colab-df-container {\n",
              "      display:flex;\n",
              "      gap: 12px;\n",
              "    }\n",
              "\n",
              "    .colab-df-convert {\n",
              "      background-color: #E8F0FE;\n",
              "      border: none;\n",
              "      border-radius: 50%;\n",
              "      cursor: pointer;\n",
              "      display: none;\n",
              "      fill: #1967D2;\n",
              "      height: 32px;\n",
              "      padding: 0 0 0 0;\n",
              "      width: 32px;\n",
              "    }\n",
              "\n",
              "    .colab-df-convert:hover {\n",
              "      background-color: #E2EBFA;\n",
              "      box-shadow: 0px 1px 2px rgba(60, 64, 67, 0.3), 0px 1px 3px 1px rgba(60, 64, 67, 0.15);\n",
              "      fill: #174EA6;\n",
              "    }\n",
              "\n",
              "    .colab-df-buttons div {\n",
              "      margin-bottom: 4px;\n",
              "    }\n",
              "\n",
              "    [theme=dark] .colab-df-convert {\n",
              "      background-color: #3B4455;\n",
              "      fill: #D2E3FC;\n",
              "    }\n",
              "\n",
              "    [theme=dark] .colab-df-convert:hover {\n",
              "      background-color: #434B5C;\n",
              "      box-shadow: 0px 1px 3px 1px rgba(0, 0, 0, 0.15);\n",
              "      filter: drop-shadow(0px 1px 2px rgba(0, 0, 0, 0.3));\n",
              "      fill: #FFFFFF;\n",
              "    }\n",
              "  </style>\n",
              "\n",
              "    <script>\n",
              "      const buttonEl =\n",
              "        document.querySelector('#df-23eeaecc-a18b-4638-b7a8-9821d0dbcfad button.colab-df-convert');\n",
              "      buttonEl.style.display =\n",
              "        google.colab.kernel.accessAllowed ? 'block' : 'none';\n",
              "\n",
              "      async function convertToInteractive(key) {\n",
              "        const element = document.querySelector('#df-23eeaecc-a18b-4638-b7a8-9821d0dbcfad');\n",
              "        const dataTable =\n",
              "          await google.colab.kernel.invokeFunction('convertToInteractive',\n",
              "                                                    [key], {});\n",
              "        if (!dataTable) return;\n",
              "\n",
              "        const docLinkHtml = 'Like what you see? Visit the ' +\n",
              "          '<a target=\"_blank\" href=https://colab.research.google.com/notebooks/data_table.ipynb>data table notebook</a>'\n",
              "          + ' to learn more about interactive tables.';\n",
              "        element.innerHTML = '';\n",
              "        dataTable['output_type'] = 'display_data';\n",
              "        await google.colab.output.renderOutput(dataTable, element);\n",
              "        const docLink = document.createElement('div');\n",
              "        docLink.innerHTML = docLinkHtml;\n",
              "        element.appendChild(docLink);\n",
              "      }\n",
              "    </script>\n",
              "  </div>\n",
              "\n",
              "\n",
              "<div id=\"df-276c3d57-3dc2-438f-a4a0-726635af9c12\">\n",
              "  <button class=\"colab-df-quickchart\" onclick=\"quickchart('df-276c3d57-3dc2-438f-a4a0-726635af9c12')\"\n",
              "            title=\"Suggest charts.\"\n",
              "            style=\"display:none;\">\n",
              "\n",
              "<svg xmlns=\"http://www.w3.org/2000/svg\" height=\"24px\"viewBox=\"0 0 24 24\"\n",
              "     width=\"24px\">\n",
              "    <g>\n",
              "        <path d=\"M19 3H5c-1.1 0-2 .9-2 2v14c0 1.1.9 2 2 2h14c1.1 0 2-.9 2-2V5c0-1.1-.9-2-2-2zM9 17H7v-7h2v7zm4 0h-2V7h2v10zm4 0h-2v-4h2v4z\"/>\n",
              "    </g>\n",
              "</svg>\n",
              "  </button>\n",
              "\n",
              "<style>\n",
              "  .colab-df-quickchart {\n",
              "      --bg-color: #E8F0FE;\n",
              "      --fill-color: #1967D2;\n",
              "      --hover-bg-color: #E2EBFA;\n",
              "      --hover-fill-color: #174EA6;\n",
              "      --disabled-fill-color: #AAA;\n",
              "      --disabled-bg-color: #DDD;\n",
              "  }\n",
              "\n",
              "  [theme=dark] .colab-df-quickchart {\n",
              "      --bg-color: #3B4455;\n",
              "      --fill-color: #D2E3FC;\n",
              "      --hover-bg-color: #434B5C;\n",
              "      --hover-fill-color: #FFFFFF;\n",
              "      --disabled-bg-color: #3B4455;\n",
              "      --disabled-fill-color: #666;\n",
              "  }\n",
              "\n",
              "  .colab-df-quickchart {\n",
              "    background-color: var(--bg-color);\n",
              "    border: none;\n",
              "    border-radius: 50%;\n",
              "    cursor: pointer;\n",
              "    display: none;\n",
              "    fill: var(--fill-color);\n",
              "    height: 32px;\n",
              "    padding: 0;\n",
              "    width: 32px;\n",
              "  }\n",
              "\n",
              "  .colab-df-quickchart:hover {\n",
              "    background-color: var(--hover-bg-color);\n",
              "    box-shadow: 0 1px 2px rgba(60, 64, 67, 0.3), 0 1px 3px 1px rgba(60, 64, 67, 0.15);\n",
              "    fill: var(--button-hover-fill-color);\n",
              "  }\n",
              "\n",
              "  .colab-df-quickchart-complete:disabled,\n",
              "  .colab-df-quickchart-complete:disabled:hover {\n",
              "    background-color: var(--disabled-bg-color);\n",
              "    fill: var(--disabled-fill-color);\n",
              "    box-shadow: none;\n",
              "  }\n",
              "\n",
              "  .colab-df-spinner {\n",
              "    border: 2px solid var(--fill-color);\n",
              "    border-color: transparent;\n",
              "    border-bottom-color: var(--fill-color);\n",
              "    animation:\n",
              "      spin 1s steps(1) infinite;\n",
              "  }\n",
              "\n",
              "  @keyframes spin {\n",
              "    0% {\n",
              "      border-color: transparent;\n",
              "      border-bottom-color: var(--fill-color);\n",
              "      border-left-color: var(--fill-color);\n",
              "    }\n",
              "    20% {\n",
              "      border-color: transparent;\n",
              "      border-left-color: var(--fill-color);\n",
              "      border-top-color: var(--fill-color);\n",
              "    }\n",
              "    30% {\n",
              "      border-color: transparent;\n",
              "      border-left-color: var(--fill-color);\n",
              "      border-top-color: var(--fill-color);\n",
              "      border-right-color: var(--fill-color);\n",
              "    }\n",
              "    40% {\n",
              "      border-color: transparent;\n",
              "      border-right-color: var(--fill-color);\n",
              "      border-top-color: var(--fill-color);\n",
              "    }\n",
              "    60% {\n",
              "      border-color: transparent;\n",
              "      border-right-color: var(--fill-color);\n",
              "    }\n",
              "    80% {\n",
              "      border-color: transparent;\n",
              "      border-right-color: var(--fill-color);\n",
              "      border-bottom-color: var(--fill-color);\n",
              "    }\n",
              "    90% {\n",
              "      border-color: transparent;\n",
              "      border-bottom-color: var(--fill-color);\n",
              "    }\n",
              "  }\n",
              "</style>\n",
              "\n",
              "  <script>\n",
              "    async function quickchart(key) {\n",
              "      const quickchartButtonEl =\n",
              "        document.querySelector('#' + key + ' button');\n",
              "      quickchartButtonEl.disabled = true;  // To prevent multiple clicks.\n",
              "      quickchartButtonEl.classList.add('colab-df-spinner');\n",
              "      try {\n",
              "        const charts = await google.colab.kernel.invokeFunction(\n",
              "            'suggestCharts', [key], {});\n",
              "      } catch (error) {\n",
              "        console.error('Error during call to suggestCharts:', error);\n",
              "      }\n",
              "      quickchartButtonEl.classList.remove('colab-df-spinner');\n",
              "      quickchartButtonEl.classList.add('colab-df-quickchart-complete');\n",
              "    }\n",
              "    (() => {\n",
              "      let quickchartButtonEl =\n",
              "        document.querySelector('#df-276c3d57-3dc2-438f-a4a0-726635af9c12 button');\n",
              "      quickchartButtonEl.style.display =\n",
              "        google.colab.kernel.accessAllowed ? 'block' : 'none';\n",
              "    })();\n",
              "  </script>\n",
              "</div>\n",
              "    </div>\n",
              "  </div>\n"
            ]
          },
          "metadata": {},
          "execution_count": 263
        }
      ]
    },
    {
      "cell_type": "markdown",
      "source": [
        "# **Data preparation**\n",
        "- Keep only the columns above\n",
        "- Lowercase the column names and replace spaces with underscores\n",
        "- Fill the missing values with 0\n",
        "- Make the price binary (1 if above the average, 0 otherwise) - this will be our target variable above_average\n",
        "- Split the data into 3 parts: train/validation/test with 60%/20%/20% distribution. Use train_test_split function for that with random_state=1"
      ],
      "metadata": {
        "id": "h9rv7vkQkeA1"
      }
    },
    {
      "cell_type": "code",
      "source": [
        "df.columns = df.columns.str.replace(' ','_').str.lower()\n",
        "df.rename(columns = {'msrp':'price'}, inplace = True)\n",
        "df = df.fillna(0)\n",
        "\n",
        "price_mean = df.price.mean()\n",
        "above_average_all = (df.price > price_mean).astype(int)\n"
      ],
      "metadata": {
        "id": "_dMPLQQzkxhV"
      },
      "execution_count": null,
      "outputs": []
    },
    {
      "cell_type": "code",
      "source": [
        "from sklearn.model_selection import train_test_split\n",
        "df_full_train, df_test = train_test_split(df, test_size=0.2, train_size=0.8, random_state=1)\n",
        "df_train, df_val = train_test_split(df_full_train, test_size=0.25, train_size=0.75, random_state=1)\n",
        "\n",
        "df_train = df_train.reset_index(drop=True)\n",
        "df_val = df_val.reset_index(drop=True)\n",
        "df_test = df_test.reset_index(drop=True)\n",
        "\n",
        "y_train = df_train.price.values\n",
        "y_val = df_val.price.values\n",
        "y_test = df_test.price.values\n",
        "\n",
        "above_average_train = (df_train.price > price_mean).astype(int)\n",
        "above_average_val = (df_val.price > price_mean).astype(int)\n",
        "above_average_test = (df_test.price > price_mean).astype(int)\n",
        "\n",
        "del df_train['price']\n",
        "del df_val['price']\n",
        "del df_test['price']\n",
        "\n",
        "# len(df),len(df_full_train),len(df_train),len(df_val),len(df_test)\n"
      ],
      "metadata": {
        "id": "XON65Mbihm2V"
      },
      "execution_count": null,
      "outputs": []
    },
    {
      "cell_type": "markdown",
      "source": [
        "# **Question 1: ROC AUC feature importance**\n",
        "ROC AUC could also be used to evaluate feature importance of numerical variables.\n",
        "\n",
        "Let's do that\n",
        "\n",
        "- For each numerical variable, use it as score and compute AUC with the above_average variable\n",
        "- Use the training dataset for that\n",
        "If your AUC is < 0.5, invert this variable by putting \"-\" in front\n",
        "\n",
        "(e.g. -df_train['engine_hp'])\n",
        "\n",
        "AUC can go below 0.5 if the variable is negatively correlated with the target varialble. You can change the direction of the correlation by negating this variable - then negative correlation becomes positive.\n",
        "\n",
        "Which numerical variable (among the following 4) has the highest AUC?\n",
        "\n",
        "- engine_hp         0.917  ✅\n",
        "- engine_cylinders  0.766\n",
        "- highway_mpg       0.633\n",
        "- city_mpg          0.673\n",
        "\n",
        "\n",
        "     year, 0.688\n",
        "engine_hp, 0.917\n",
        "engine_cylinders, 0.766\n",
        "highway_mpg, 0.633\n",
        " city_mpg, 0.673"
      ],
      "metadata": {
        "id": "CHPhA5y_kd-C"
      }
    },
    {
      "cell_type": "code",
      "source": [
        "from sklearn.linear_model import LogisticRegression\n",
        "from sklearn.metrics import auc\n",
        "from sklearn.metrics import roc_auc_score\n",
        "from sklearn.metrics import roc_curve"
      ],
      "metadata": {
        "id": "LehxtKQfgY2X"
      },
      "execution_count": null,
      "outputs": []
    },
    {
      "cell_type": "code",
      "source": [
        "# Other way to get categoty and numerical columns\n",
        "# a = list (df_train.columns[df_train.dtypes == object])\n",
        "# b = list (df_train.columns[df_train.dtypes != object])\n",
        "\n",
        "categorical = list (df.dtypes[df.dtypes == object].index)\n",
        "numerical = list (df.dtypes[(df.dtypes.index != 'price') & (df.dtypes != object)].index)\n",
        "\n",
        "numerical"
      ],
      "metadata": {
        "id": "6QZzteFNkyHN",
        "colab": {
          "base_uri": "https://localhost:8080/"
        },
        "outputId": "88b00852-808f-4471-ed38-e168a260260f"
      },
      "execution_count": null,
      "outputs": [
        {
          "output_type": "execute_result",
          "data": {
            "text/plain": [
              "['year', 'engine_hp', 'engine_cylinders', 'highway_mpg', 'city_mpg']"
            ]
          },
          "metadata": {},
          "execution_count": 267
        }
      ]
    },
    {
      "cell_type": "code",
      "source": [
        "#@ CALCULATING ROC AUC SCORE:\n",
        "for feat in numerical:\n",
        "    auc_score = roc_auc_score(above_average_train, df_train[feat])\n",
        "    if auc_score < 0.5:\n",
        "        auc_score = roc_auc_score(above_average_train, -df_train[feat])\n",
        "    print(f'{feat} - auc: {round(auc_score,3)}')"
      ],
      "metadata": {
        "colab": {
          "base_uri": "https://localhost:8080/"
        },
        "id": "B89Ss7PYG-HR",
        "outputId": "4e9dd28f-3e0e-4a08-8181-59450df92153"
      },
      "execution_count": null,
      "outputs": [
        {
          "output_type": "stream",
          "name": "stdout",
          "text": [
            "year - auc: 0.688\n",
            "engine_hp - auc: 0.917\n",
            "engine_cylinders - auc: 0.766\n",
            "highway_mpg - auc: 0.633\n",
            "city_mpg - auc: 0.673\n"
          ]
        }
      ]
    },
    {
      "cell_type": "code",
      "source": [
        "len(df_train.year), len(above_average_train)"
      ],
      "metadata": {
        "colab": {
          "base_uri": "https://localhost:8080/"
        },
        "id": "c2-kDiR-711G",
        "outputId": "9317730d-8af2-489c-e5fb-3bf24432ba09"
      },
      "execution_count": null,
      "outputs": [
        {
          "output_type": "execute_result",
          "data": {
            "text/plain": [
              "(7148, 7148)"
            ]
          },
          "metadata": {},
          "execution_count": 269
        }
      ]
    },
    {
      "cell_type": "code",
      "source": [
        "# for feat in numerical:\n",
        "#   X_train = df_train[feat].to_numpy().reshape(-1, 1)\n",
        "#   X_val = df_val[feat].to_numpy().reshape(-1, 1)\n",
        "\n",
        "#   model = LogisticRegression()\n",
        "#   model.fit( X_train,above_average_train )\n",
        "\n",
        "#   y_pred = model.predict_proba(X_val)[:, 1]\n",
        "#   # y_pred = model.predict_proba(X_val)[:, 1]\n",
        "#   # churn_decision = (y_pred >= 0.5)\n",
        "#   # (y_val == churn_decision).mean()\n",
        "#   fpr, tpr, thresholds = roc_curve(above_average_val, y_pred)\n",
        "#   s = auc(fpr, tpr)\n",
        "#   print(f'{feat}: auc: {s}')\n"
      ],
      "metadata": {
        "id": "AsskO-jk8NtJ"
      },
      "execution_count": null,
      "outputs": []
    },
    {
      "cell_type": "markdown",
      "source": [
        "# **Question 2: Training the model**\n",
        "Apply one-hot-encoding using DictVectorizer and train the logistic regression with these parameters:\n",
        "\n",
        "LogisticRegression(solver='liblinear', C=1.0, max_iter=1000)\n",
        "\n",
        "What's the AUC of this model on the validation dataset? (round to 3 digits)\n",
        "\n",
        "- 0.678\n",
        "- 0.779\n",
        "- 0.878\n",
        "- 0.979 ✅"
      ],
      "metadata": {
        "id": "s3ao6RECkd69"
      }
    },
    {
      "cell_type": "code",
      "source": [
        "from sklearn.feature_extraction import DictVectorizer"
      ],
      "metadata": {
        "id": "tKmA88ankzDo"
      },
      "execution_count": null,
      "outputs": []
    },
    {
      "cell_type": "code",
      "source": [
        "# One hot coding\n",
        "dv= DictVectorizer(sparse=False)\n",
        "\n",
        "train_dict = df_train[categorical + numerical].to_dict(orient='records')\n",
        "X_train = dv.fit_transform(train_dict)\n",
        "\n",
        "val_dict = df_val[categorical+numerical].to_dict(orient='records')\n",
        "X_val = dv.transform(val_dict)\n"
      ],
      "metadata": {
        "id": "3-0Fy4JikwwQ"
      },
      "execution_count": null,
      "outputs": []
    },
    {
      "cell_type": "code",
      "source": [
        "#Logistic Regression Model\n",
        "model = LogisticRegression(solver='liblinear', C=1.0, max_iter=1000)\n",
        "model.fit(X_train, above_average_train)\n",
        "\n",
        "y_pred = model.predict_proba(X_val)[:, 1]\n",
        "\n",
        "roc_auc_score(above_average_val, y_pred)"
      ],
      "metadata": {
        "colab": {
          "base_uri": "https://localhost:8080/"
        },
        "id": "9T0nO3R1kwsB",
        "outputId": "34478a3a-3f92-4d4e-9cb2-fc17ecb84b87"
      },
      "execution_count": null,
      "outputs": [
        {
          "output_type": "execute_result",
          "data": {
            "text/plain": [
              "0.9797482414575607"
            ]
          },
          "metadata": {},
          "execution_count": 273
        }
      ]
    },
    {
      "cell_type": "code",
      "source": [
        "fpr, tpr, thresholds = roc_curve(above_average_val, y_pred)\n",
        "auc(fpr, tpr)\n"
      ],
      "metadata": {
        "colab": {
          "base_uri": "https://localhost:8080/"
        },
        "id": "FCHdDPg4kwmg",
        "outputId": "3bfaedb0-63e2-48b1-9cc0-a6a772dfad51"
      },
      "execution_count": null,
      "outputs": [
        {
          "output_type": "execute_result",
          "data": {
            "text/plain": [
              "0.9797482414575607"
            ]
          },
          "metadata": {},
          "execution_count": 274
        }
      ]
    },
    {
      "cell_type": "markdown",
      "source": [
        "# **Question 3: Precision and Recall**\n",
        "Now let's compute precision and recall for our model.\n",
        "\n",
        "- Evaluate the model on all thresholds from 0.0 to 1.0 with step 0.01\n",
        "- For each threshold, compute precision and recall\n",
        "- Plot them\n",
        "\n",
        "At which threshold precision and recall curves intersect?\n",
        "\n",
        "- 0.28\n",
        "- 0.48 ✅\n",
        "- 0.68\n",
        "- 0.88"
      ],
      "metadata": {
        "id": "cGHX82FMkd4B"
      }
    },
    {
      "cell_type": "code",
      "source": [
        "y_val = above_average_val\n",
        "\n",
        "scores = []\n",
        "\n",
        "thresholds = np.arange(0, 1.01, .01)\n",
        "\n",
        "for t in thresholds:\n",
        "    actual_positive = (y_val == 1)\n",
        "    actual_negative = (y_val == 0)\n",
        "\n",
        "    predict_positive = (y_pred >= t)\n",
        "    predict_negative = (y_pred < t)\n",
        "\n",
        "    tp = (predict_positive & actual_positive).sum()\n",
        "    tn = (predict_negative & actual_negative).sum()\n",
        "\n",
        "    fp = (predict_positive & actual_negative).sum()\n",
        "    fn = (predict_negative & actual_positive).sum()\n",
        "\n",
        "    scores.append((t, tp, fp, fn, tn))\n",
        "\n",
        "columns = ['threshold', 'tp', 'fp', 'fn', 'tn']\n",
        "df_scores = pd.DataFrame(scores, columns=columns)\n",
        "\n",
        "df_scores['precision'] = df_scores.tp / (df_scores.tp + df_scores.fp)\n",
        "df_scores['recall'] = df_scores.tp / (df_scores.tp + df_scores.fn)\n",
        "\n",
        "df_scores['f1_score'] = 2* (df_scores.precision*df_scores.recall / (df_scores.precision + df_scores.recall))\n",
        "# df_scores[df_scores['f1_score'] == df_scores['f1_score'].max()]\n",
        "\n",
        "\n",
        "plt.plot(df_scores.threshold, df_scores['precision'], label='Precision')\n",
        "plt.plot(df_scores.threshold, df_scores['recall'], label='Recall')\n",
        "\n",
        "plt.plot(df_scores.threshold, df_scores['f1_score'], label='f1_score')\n",
        "\n",
        "plt.legend()\n",
        "plt.xlabel(\"Threshold\")\n",
        "pltarray = np.arange(0,1.1,.1)\n",
        "plt.xticks(pltarray)\n",
        "plt.grid(which ='both', axis='both')\n",
        "\n",
        "\n"
      ],
      "metadata": {
        "id": "o4r3tfEMkzzZ",
        "colab": {
          "base_uri": "https://localhost:8080/",
          "height": 449
        },
        "outputId": "2eac195e-4e21-4e31-a286-8833b5ce40b7"
      },
      "execution_count": null,
      "outputs": [
        {
          "output_type": "display_data",
          "data": {
            "text/plain": [
              "<Figure size 640x480 with 1 Axes>"
            ],
            "image/png": "[encoded data removed]"
          },
          "metadata": {}
        }
      ]
    },
    {
      "cell_type": "markdown",
      "source": [
        "# **Question 4: F1 score**\n",
        "Precision and recall are conflicting - when one grows, the other goes down. That's why they are often combined into the F1 score - a metrics that takes into account both\n",
        "\n",
        "This is the formula for computing F1:\n",
        "\n",
        " ![image.png](data:image/png;base64,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)\n",
        "\n",
        "Where\n",
        " is precision and\n",
        " is recall.\n",
        "\n",
        "Let's compute F1 for all thresholds from 0.0 to 1.0 with increment 0.01\n",
        "\n",
        "At which threshold F1 is maximal?\n",
        "\n",
        "- 0.12\n",
        "- 0.32\n",
        "- 0.52 ✅\n",
        "- 0.72"
      ],
      "metadata": {
        "id": "OppTRExmkd0x"
      }
    },
    {
      "cell_type": "code",
      "source": [
        "# df_scores['f1_score'] = 2* (df_scores.precision*df_scores.recall / (df_scores.precision + df_scores.recall))\n",
        "# df_scores['f1_score'].max()\n",
        "df_scores[df_scores['f1_score'] == df_scores['f1_score'].max()]"
      ],
      "metadata": {
        "id": "L4f39bmGk0hl",
        "colab": {
          "base_uri": "https://localhost:8080/",
          "height": 81
        },
        "outputId": "7a8cf96e-23ff-4f09-fbb7-fb6f26243aa7"
      },
      "execution_count": null,
      "outputs": [
        {
          "output_type": "execute_result",
          "data": {
            "text/plain": [
              "    threshold   tp  fp  fn    tn  precision    recall  f1_score\n",
              "49       0.49  575  70  79  1659   0.891473  0.879205  0.885296"
            ],
            "text/html": [
              "\n",
              "  <div id=\"df-21f89db6-1027-449a-b434-de3b1dacdba6\" class=\"colab-df-container\">\n",
              "    <div>\n",
              "<style scoped>\n",
              "    .dataframe tbody tr th:only-of-type {\n",
              "        vertical-align: middle;\n",
              "    }\n",
              "\n",
              "    .dataframe tbody tr th {\n",
              "        vertical-align: top;\n",
              "    }\n",
              "\n",
              "    .dataframe thead th {\n",
              "        text-align: right;\n",
              "    }\n",
              "</style>\n",
              "<table border=\"1\" class=\"dataframe\">\n",
              "  <thead>\n",
              "    <tr style=\"text-align: right;\">\n",
              "      <th></th>\n",
              "      <th>threshold</th>\n",
              "      <th>tp</th>\n",
              "      <th>fp</th>\n",
              "      <th>fn</th>\n",
              "      <th>tn</th>\n",
              "      <th>precision</th>\n",
              "      <th>recall</th>\n",
              "      <th>f1_score</th>\n",
              "    </tr>\n",
              "  </thead>\n",
              "  <tbody>\n",
              "    <tr>\n",
              "      <th>49</th>\n",
              "      <td>0.49</td>\n",
              "      <td>575</td>\n",
              "      <td>70</td>\n",
              "      <td>79</td>\n",
              "      <td>1659</td>\n",
              "      <td>0.891473</td>\n",
              "      <td>0.879205</td>\n",
              "      <td>0.885296</td>\n",
              "    </tr>\n",
              "  </tbody>\n",
              "</table>\n",
              "</div>\n",
              "    <div class=\"colab-df-buttons\">\n",
              "\n",
              "  <div class=\"colab-df-container\">\n",
              "    <button class=\"colab-df-convert\" onclick=\"convertToInteractive('df-21f89db6-1027-449a-b434-de3b1dacdba6')\"\n",
              "            title=\"Convert this dataframe to an interactive table.\"\n",
              "            style=\"display:none;\">\n",
              "\n",
              "  <svg xmlns=\"http://www.w3.org/2000/svg\" height=\"24px\" viewBox=\"0 -960 960 960\">\n",
              "    <path d=\"M120-120v-720h720v720H120Zm60-500h600v-160H180v160Zm220 220h160v-160H400v160Zm0 220h160v-160H400v160ZM180-400h160v-160H180v160Zm440 0h160v-160H620v160ZM180-180h160v-160H180v160Zm440 0h160v-160H620v160Z\"/>\n",
              "  </svg>\n",
              "    </button>\n",
              "\n",
              "  <style>\n",
              "    .colab-df-container {\n",
              "      display:flex;\n",
              "      gap: 12px;\n",
              "    }\n",
              "\n",
              "    .colab-df-convert {\n",
              "      background-color: #E8F0FE;\n",
              "      border: none;\n",
              "      border-radius: 50%;\n",
              "      cursor: pointer;\n",
              "      display: none;\n",
              "      fill: #1967D2;\n",
              "      height: 32px;\n",
              "      padding: 0 0 0 0;\n",
              "      width: 32px;\n",
              "    }\n",
              "\n",
              "    .colab-df-convert:hover {\n",
              "      background-color: #E2EBFA;\n",
              "      box-shadow: 0px 1px 2px rgba(60, 64, 67, 0.3), 0px 1px 3px 1px rgba(60, 64, 67, 0.15);\n",
              "      fill: #174EA6;\n",
              "    }\n",
              "\n",
              "    .colab-df-buttons div {\n",
              "      margin-bottom: 4px;\n",
              "    }\n",
              "\n",
              "    [theme=dark] .colab-df-convert {\n",
              "      background-color: #3B4455;\n",
              "      fill: #D2E3FC;\n",
              "    }\n",
              "\n",
              "    [theme=dark] .colab-df-convert:hover {\n",
              "      background-color: #434B5C;\n",
              "      box-shadow: 0px 1px 3px 1px rgba(0, 0, 0, 0.15);\n",
              "      filter: drop-shadow(0px 1px 2px rgba(0, 0, 0, 0.3));\n",
              "      fill: #FFFFFF;\n",
              "    }\n",
              "  </style>\n",
              "\n",
              "    <script>\n",
              "      const buttonEl =\n",
              "        document.querySelector('#df-21f89db6-1027-449a-b434-de3b1dacdba6 button.colab-df-convert');\n",
              "      buttonEl.style.display =\n",
              "        google.colab.kernel.accessAllowed ? 'block' : 'none';\n",
              "\n",
              "      async function convertToInteractive(key) {\n",
              "        const element = document.querySelector('#df-21f89db6-1027-449a-b434-de3b1dacdba6');\n",
              "        const dataTable =\n",
              "          await google.colab.kernel.invokeFunction('convertToInteractive',\n",
              "                                                    [key], {});\n",
              "        if (!dataTable) return;\n",
              "\n",
              "        const docLinkHtml = 'Like what you see? Visit the ' +\n",
              "          '<a target=\"_blank\" href=https://colab.research.google.com/notebooks/data_table.ipynb>data table notebook</a>'\n",
              "          + ' to learn more about interactive tables.';\n",
              "        element.innerHTML = '';\n",
              "        dataTable['output_type'] = 'display_data';\n",
              "        await google.colab.output.renderOutput(dataTable, element);\n",
              "        const docLink = document.createElement('div');\n",
              "        docLink.innerHTML = docLinkHtml;\n",
              "        element.appendChild(docLink);\n",
              "      }\n",
              "    </script>\n",
              "  </div>\n",
              "\n",
              "    </div>\n",
              "  </div>\n"
            ]
          },
          "metadata": {},
          "execution_count": 276
        }
      ]
    },
    {
      "cell_type": "code",
      "source": [],
      "metadata": {
        "id": "2hQxAYSjnRAS"
      },
      "execution_count": null,
      "outputs": []
    },
    {
      "cell_type": "markdown",
      "source": [
        "# **Question 5: 5-Fold CV**\n",
        "Use the KFold class from Scikit-Learn to evaluate our model on 5 different folds:\n",
        "\n",
        "KFold(n_splits=5, shuffle=True, random_state=1)\n",
        "\n",
        "- Iterate over different folds of df_full_train\n",
        "- Split the data into train and validation\n",
        "- Train the model on train with these parameters: LogisticRegression(solver='liblinear', C=1.0, max_iter=1000)\n",
        "- Use AUC to evaluate the model on validation\n",
        "\n",
        "How large is standard devidation of the scores across different folds?\n",
        "\n",
        "- 0.003 ✅\n",
        "- 0.030\n",
        "- 0.090\n",
        "- 0.140"
      ],
      "metadata": {
        "id": "eegI7cwlkdxp"
      }
    },
    {
      "cell_type": "code",
      "source": [
        "from sklearn.model_selection import KFold"
      ],
      "metadata": {
        "id": "W5t296P9k1TV"
      },
      "execution_count": null,
      "outputs": []
    },
    {
      "cell_type": "code",
      "source": [
        "def train(df_train, y_train, C=1.0):\n",
        "    dicts = df_train[categorical + numerical].to_dict(orient='records')\n",
        "\n",
        "    dv = DictVectorizer(sparse=False)\n",
        "    X_train = dv.fit_transform(dicts)\n",
        "\n",
        "    model = LogisticRegression(C=C, solver='liblinear',max_iter=1000)\n",
        "    model.fit(X_train, y_train)\n",
        "\n",
        "    return dv, model"
      ],
      "metadata": {
        "id": "p_ixqIEFp-nu"
      },
      "execution_count": null,
      "outputs": []
    },
    {
      "cell_type": "code",
      "source": [
        "def predict(df, dv, model):\n",
        "    dicts = df[categorical + numerical].to_dict(orient='records')\n",
        "\n",
        "    X = dv.transform(dicts)\n",
        "    y_pred = model.predict_proba(X)[:, 1]\n",
        "\n",
        "    return y_pred"
      ],
      "metadata": {
        "id": "BLmfXp4ats2q"
      },
      "execution_count": null,
      "outputs": []
    },
    {
      "cell_type": "code",
      "source": [
        "    kfold = KFold(n_splits=5, shuffle=True, random_state=1)\n",
        "    C = 1.0\n",
        "    scores = []\n",
        "\n",
        "    for train_idx, val_idx in kfold.split(df_full_train):\n",
        "        df_train = df_full_train.iloc[train_idx]\n",
        "        df_val = df_full_train.iloc[val_idx]\n",
        "\n",
        "        # y_train = df_train.price.values\n",
        "        # y_val = df_val.price.values\n",
        "\n",
        "        y_train = (df_train.price > price_mean).astype(int)\n",
        "        y_val = (df_val.price > price_mean).astype(int)\n",
        "\n",
        "        dv, model = train(df_train, y_train, C=C)\n",
        "        y_pred = predict(df_val, dv, model)\n",
        "\n",
        "        auc = roc_auc_score(y_val, y_pred)\n",
        "        scores.append(auc)\n",
        "        print(f'auc={auc}')\n",
        "\n",
        "    print('\\nmean auc %.3f stdv +- %.3f' % (np.mean(scores), np.std(scores)))"
      ],
      "metadata": {
        "colab": {
          "base_uri": "https://localhost:8080/"
        },
        "id": "809UrXmVtszb",
        "outputId": "cae56c30-a23c-4084-8e25-a2af50e715fb"
      },
      "execution_count": null,
      "outputs": [
        {
          "output_type": "stream",
          "name": "stdout",
          "text": [
            "auc=0.9784891235596622\n",
            "auc=0.9802029731275015\n",
            "auc=0.9829025151971447\n",
            "auc=0.9772586581897273\n",
            "auc=0.9776862026862028\n",
            "\n",
            "mean auc 0.979 stdv +- 0.002\n"
          ]
        }
      ]
    },
    {
      "cell_type": "markdown",
      "source": [
        "# **Question 6: Hyperparemeter Tuning**\n",
        "\n",
        "Now let's use 5-Fold cross-validation to find the best parameter C\n",
        "\n",
        "- Iterate over the following C values: [0.01, 0.1, 0.5, 10]\n",
        "- Initialize KFold with the same parameters as previously\n",
        "- Use these parametes for the model: LogisticRegression(solver='liblinear', C=C, max_iter=1000)\n",
        "- Compute the mean score as well as the std (round the mean and std to 3 decimal digits)\n",
        "Which C leads to the best mean score?\n",
        "\n",
        "- 0.01\n",
        "- 0.1\n",
        "- 0.5\n",
        "- 10  ✅\n",
        "\n",
        "If you have ties, select the score with the lowest std. If you still have ties, select the smallest C.\n"
      ],
      "metadata": {
        "id": "ZAIvcq2ukdrZ"
      }
    },
    {
      "cell_type": "code",
      "source": [
        "kfold = KFold(n_splits=5, shuffle=True, random_state=1)\n",
        "C_values = [0.01, 0.1, 0.5, 10]\n",
        "scores = []\n",
        "\n",
        "for C in  C_values:\n",
        "    for train_idx, val_idx in kfold.split(df_full_train):\n",
        "        df_train = df_full_train.iloc[train_idx]\n",
        "        df_val = df_full_train.iloc[val_idx]\n",
        "\n",
        "        # y_train = df_train.price.values\n",
        "        # y_val = df_val.price.values\n",
        "\n",
        "        y_train = (df_train.price > price_mean).astype(int)\n",
        "        y_val = (df_val.price > price_mean).astype(int)\n",
        "\n",
        "        dv, model = train(df_train, y_train, C=C)\n",
        "        y_pred = predict(df_val, dv, model)\n",
        "\n",
        "        auc = roc_auc_score(y_val, y_pred)\n",
        "        scores.append(auc)\n",
        "\n",
        "    print('\\nC=%s mean auc %.3f stdv +- %.3f' % (C,np.mean(scores), np.std(scores)))"
      ],
      "metadata": {
        "id": "7mhszWh2k1-B",
        "colab": {
          "base_uri": "https://localhost:8080/"
        },
        "outputId": "1a3abf1a-4724-4e76-e047-fed3eba49df6"
      },
      "execution_count": null,
      "outputs": [
        {
          "output_type": "stream",
          "name": "stdout",
          "text": [
            "\n",
            "C=0.01 mean auc 0.952 stdv +- 0.003\n",
            "\n",
            "C=0.1 mean auc 0.962 stdv +- 0.010\n",
            "\n",
            "C=0.5 mean auc 0.967 stdv +- 0.011\n",
            "\n",
            "C=10 mean auc 0.970 stdv +- 0.012\n"
          ]
        }
      ]
    },
    {
      "cell_type": "markdown",
      "source": [],
      "metadata": {
        "id": "9MrlrNNVkdld"
      }
    },
    {
      "cell_type": "code",
      "source": [],
      "metadata": {
        "id": "hU3ms4PNk2gt"
      },
      "execution_count": null,
      "outputs": []
    },
    {
      "cell_type": "markdown",
      "source": [],
      "metadata": {
        "id": "vovK2EdfkdSr"
      }
    },
    {
      "cell_type": "code",
      "execution_count": null,
      "metadata": {
        "id": "WZy2kXd9kYEP"
      },
      "outputs": [],
      "source": []
    }
  ]
}