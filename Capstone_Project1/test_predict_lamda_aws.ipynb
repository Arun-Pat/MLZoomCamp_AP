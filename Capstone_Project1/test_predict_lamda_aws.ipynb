{
 "cells": [
  {
   "cell_type": "code",
   "execution_count": 1,
   "id": "4275cb74",
   "metadata": {},
   "outputs": [],
   "source": [
    "import json\n",
    "import requests"
   ]
  },
  {
   "cell_type": "code",
   "execution_count": 2,
   "id": "bb7057ed",
   "metadata": {},
   "outputs": [],
   "source": [
    "# image_url = \"https://1.bp.blogspot.com/-o3BArH9Lq1M/XPm3DJcx8aI/AAAAAAAAJSA/_zzUjuGx9k8-lTu0B9hYvtOVogOYEch7ACLcBGAs/s1600/p7_Broccoli_HH1812_gi905351392.jpg\"\n",
    "image_url = \"https://2.bp.blogspot.com/-cBd91Z2JeqI/WZjDCgEp0kI/AAAAAAAAh0E/DHKnckBY6ZUB1xkU_nEql7LuXCPZ-_ypACLcBGAs/s640/214.png\"\n",
    "# image_url = \"https://s3.amazonaws.com/com.niches.production/story_images/new_images/000/004/694/width_1200/how-much-is-in-a-cabbage-2.jpg?1631638990\"\n",
    "\n",
    "event_dict = {\n",
    "    \"url\": image_url,\n",
    "    \"top_cat\": 2\n",
    "}"
   ]
  },
  {
   "cell_type": "markdown",
   "id": "aaed4e0d",
   "metadata": {},
   "source": [
    "### Testing the Lambda Function (AWS)"
   ]
  },
  {
   "cell_type": "code",
   "execution_count": 3,
   "id": "0b46c42c",
   "metadata": {},
   "outputs": [],
   "source": [
    "lambda_api = 'https://wv9t8fhbvg.execute-api.ap-south-1.amazonaws.com/veget_api'\n",
    "lambda_method = '/predict'\n",
    "url = f'{lambda_api}{lambda_method}'"
   ]
  },
  {
   "cell_type": "code",
   "execution_count": 4,
   "id": "d83bf7b1",
   "metadata": {},
   "outputs": [],
   "source": [
    "output = requests.post(url, json=event_dict).json()"
   ]
  },
  {
   "cell_type": "code",
   "execution_count": 5,
   "id": "ad4ea521",
   "metadata": {},
   "outputs": [
    {
     "name": "stdout",
     "output_type": "stream",
     "text": [
      "{'prediction': ['Tomato', 'Capsicum']}\n",
      "{'prediction': ['Tomato', 'Capsicum']}\n"
     ]
    }
   ],
   "source": [
    "print(output)"
   ]
  }
 ],
 "metadata": {
  "kernelspec": {
   "display_name": "Python 3 (ipykernel)",
   "language": "python",
   "name": "python3"
  },
  "language_info": {
   "codemirror_mode": {
    "name": "ipython",
    "version": 3
   },
   "file_extension": ".py",
   "mimetype": "text/x-python",
   "name": "python",
   "nbconvert_exporter": "python",
   "pygments_lexer": "ipython3",
   "version": "3.11.5"
  }
 },
 "nbformat": 4,
 "nbformat_minor": 5
}
