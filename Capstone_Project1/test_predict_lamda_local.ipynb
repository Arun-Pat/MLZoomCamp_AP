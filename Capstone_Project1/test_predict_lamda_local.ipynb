{
 "cells": [
  {
   "cell_type": "code",
   "execution_count": 1,
   "id": "4275cb74",
   "metadata": {},
   "outputs": [],
   "source": [
    "import json\n",
    "import requests\n"
   ]
  },
  {
   "cell_type": "code",
   "execution_count": 2,
   "id": "bb7057ed",
   "metadata": {},
   "outputs": [],
   "source": [
    "image_url = \"https://1.bp.blogspot.com/-o3BArH9Lq1M/XPm3DJcx8aI/AAAAAAAAJSA/_zzUjuGx9k8-lTu0B9hYvtOVogOYEch7ACLcBGAs/s1600/p7_Broccoli_HH1812_gi905351392.jpg\"\n",
    "# image_url = \"https://thefarmatgreenvillage.com/wp-content/uploads/2018/05/heirloom-tomatoes.jpg\"\n",
    "\n",
    "event_dict = {\n",
    "    \"url\": image_url,\n",
    "    \"top_cat\": 2\n",
    "}"
   ]
  },
  {
   "cell_type": "markdown",
   "id": "aaed4e0d",
   "metadata": {},
   "source": [
    "### Testing the Lambda Function (locally)"
   ]
  },
  {
   "cell_type": "code",
   "execution_count": 3,
   "id": "0b46c42c",
   "metadata": {},
   "outputs": [
    {
     "name": "stdout",
     "output_type": "stream",
     "text": [
      "WARNING:tensorflow:From C:\\Users\\ARUN\\anaconda3\\Lib\\site-packages\\keras\\src\\losses.py:2976: The name tf.losses.sparse_softmax_cross_entropy is deprecated. Please use tf.compat.v1.losses.sparse_softmax_cross_entropy instead.\n",
      "\n"
     ]
    }
   ],
   "source": [
    "import predict_lamda_func_local"
   ]
  },
  {
   "cell_type": "code",
   "execution_count": 4,
   "id": "d83bf7b1",
   "metadata": {},
   "outputs": [
    {
     "name": "stdout",
     "output_type": "stream",
     "text": [
      "{\"url\": \"https://1.bp.blogspot.com/-o3BArH9Lq1M/XPm3DJcx8aI/AAAAAAAAJSA/_zzUjuGx9k8-lTu0B9hYvtOVogOYEch7ACLcBGAs/s1600/p7_Broccoli_HH1812_gi905351392.jpg\", \"top_cat\": 2}\n"
     ]
    }
   ],
   "source": [
    "event = json.dumps(event_dict)\n",
    "print(event)"
   ]
  },
  {
   "cell_type": "code",
   "execution_count": 5,
   "id": "eba5f697",
   "metadata": {},
   "outputs": [
    {
     "data": {
      "text/plain": [
       "{'prediction': ['Broccoli', 'Pumpkin']}"
      ]
     },
     "execution_count": 5,
     "metadata": {},
     "output_type": "execute_result"
    }
   ],
   "source": [
    "# Lambda takes care of converting the JSON to Python dict,\n",
    "# so for local testing we send the dict instead\n",
    "predict_lamda_func_local.lambda_handler(event_dict, None)"
   ]
  },
  {
   "cell_type": "markdown",
   "id": "72271df5",
   "metadata": {},
   "source": []
  }
 ],
 "metadata": {
  "kernelspec": {
   "display_name": "Python 3 (ipykernel)",
   "language": "python",
   "name": "python3"
  },
  "language_info": {
   "codemirror_mode": {
    "name": "ipython",
    "version": 3
   },
   "file_extension": ".py",
   "mimetype": "text/x-python",
   "name": "python",
   "nbconvert_exporter": "python",
   "pygments_lexer": "ipython3",
   "version": "3.11.5"
  }
 },
 "nbformat": 4,
 "nbformat_minor": 5
}
